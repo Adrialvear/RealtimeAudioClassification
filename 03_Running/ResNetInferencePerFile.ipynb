{
 "cells": [
  {
   "cell_type": "markdown",
   "metadata": {},
   "source": [
    "# Load library"
   ]
  },
  {
   "cell_type": "code",
   "execution_count": 2,
   "metadata": {},
   "outputs": [],
   "source": [
    "from importlib import reload\n",
    "import RunningResNetLibrary as RTA\n",
    "from IPython.display import clear_output, display\n",
    "import os\n",
    "import subprocess\n",
    "import matplotlib.pyplot as plt\n",
    "import numpy as np\n",
    "import IPython.display as ipd\n",
    "import glob\n",
    "from ipywidgets import interactive\n",
    "import ipywidgets as widgets"
   ]
  },
  {
   "cell_type": "markdown",
   "metadata": {},
   "source": [
    "## Testing on one file"
   ]
  },
  {
   "cell_type": "code",
   "execution_count": null,
   "metadata": {},
   "outputs": [],
   "source": [
    "SOURCE_DATA_ROOT='../AudioData/'\n",
    "\n",
    "def listdir_nohidden(path):\n",
    "    return glob.glob(os.path.join(path, '*'))\n",
    "style = {'description_width': 'initial'}\n",
    "\n",
    "SourceFolderDropdown= widgets.Dropdown(options=listdir_nohidden(SOURCE_DATA_ROOT), description='Source for Training Data:',style=style)\n",
    "\n",
    "display(SourceFolderDropdown)"
   ]
  },
  {
   "cell_type": "code",
   "execution_count": null,
   "metadata": {},
   "outputs": [],
   "source": [
    "SOURCE_FOLDER_TRAIN= SourceFolderDropdown.value\n",
    "AudioFolderDropdown= widgets.Dropdown(options=listdir_nohidden(SOURCE_FOLDER_TRAIN), description='Audio Folder:',style=style)\n",
    "display(AudioFolderDropdown)"
   ]
  },
  {
   "cell_type": "code",
   "execution_count": null,
   "metadata": {},
   "outputs": [],
   "source": [
    "AudioFileDropdown= widgets.Dropdown(options=[f for f in listdir_nohidden(AudioFolderDropdown.value) if  (f.endswith(\".aif\") or f.endswith(\".flac\") or f.endswith(\".wav\") or f.endswith(\".m4a\") or f.endswith(\".mp3\"))], description='Audio File:',style=style)\n",
    "display(AudioFileDropdown)"
   ]
  },
  {
   "cell_type": "code",
   "execution_count": null,
   "metadata": {},
   "outputs": [],
   "source": [
    "EvaluationFile =AudioFileDropdown.value\n",
    "ipd.Audio(EvaluationFile)"
   ]
  },
  {
   "cell_type": "code",
   "execution_count": null,
   "metadata": {},
   "outputs": [],
   "source": [
    "a,b,c =RTA.EvaluateOneFile(EvaluationFile,ModelPath=\"../models/UrbanResNet.pth\")\n",
    "a=np.array(a)\n",
    "b=np.array(b)"
   ]
  },
  {
   "cell_type": "code",
   "execution_count": null,
   "metadata": {},
   "outputs": [],
   "source": [
    "RedClass= widgets.Dropdown(options=c, description='Red Display Class line:',style=style)\n",
    "display(RedClass)\n",
    "BlueClass= widgets.Dropdown(options=c, description='Blue Display Class File:',style=style)\n",
    "display(BlueClass)"
   ]
  },
  {
   "cell_type": "code",
   "execution_count": null,
   "metadata": {},
   "outputs": [],
   "source": [
    "plt.figure(figsize=(20,5)) \n",
    "for i, val in enumerate(a.T):\n",
    "    if(c[i]==RedClass.value):\n",
    "        plt.plot(b.T[i],label=c[i],c='r')\n",
    "    elif(c[i]==BlueClass.value):\n",
    "        plt.plot(b.T[i],label=c[i],c='b')\n",
    "    else:\n",
    "        plt.plot(b.T[i],label=c[i],c='g')\n",
    "plt.legend()\n",
    "plt.show()\n",
    "ipd.Audio(EvaluationFile) "
   ]
  },
  {
   "cell_type": "code",
   "execution_count": null,
   "metadata": {},
   "outputs": [],
   "source": []
  },
  {
   "cell_type": "code",
   "execution_count": null,
   "metadata": {},
   "outputs": [],
   "source": []
  }
 ],
 "metadata": {
  "kernelspec": {
   "display_name": "py37",
   "language": "python",
   "name": "py37"
  },
  "language_info": {
   "codemirror_mode": {
    "name": "ipython",
    "version": 3
   },
   "file_extension": ".py",
   "mimetype": "text/x-python",
   "name": "python",
   "nbconvert_exporter": "python",
   "pygments_lexer": "ipython3",
   "version": "3.7.7"
  }
 },
 "nbformat": 4,
 "nbformat_minor": 2
}
