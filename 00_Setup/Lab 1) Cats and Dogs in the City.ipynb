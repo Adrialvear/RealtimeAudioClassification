{
 "cells": [
  {
   "cell_type": "markdown",
   "metadata": {},
   "source": [
    "\n",
    "## Downloading Datasets\n",
    "\n",
    "One of the important aspects of neural networks is that you need a lot of data that is diverse enough to really teach the network the difference between the classes of sounds that you are trying to distinguish.\n",
    "\n",
    "For the first exercise, we will use a classic machine learning example, [Cats vs. Dogs](https://pythonprogramming.net/convolutional-neural-network-kats-vs-dogs-machine-learning-tutorial/), but in our case, in audio form. Go head on over to the following kaggle link, make an account and download the data: Download: [www.kaggle.com/mmoreaux/audio-cats-and-dogs](https://www.kaggle.com/mmoreaux/audio-cats-and-dogs/downloads/audio-cats-and-dogs.zip/). After it finished downloading, unzip the folder and move it to to the  ``AudioData/`` folder in the repository.\n",
    "\n",
    "---\n",
    "\n",
    "In the meantime, while things are downloading, and you are working go ahead and start downloading the Urban sound data sets [here on kaggle](https://www.kaggle.com/pavansanagapati/urban-sound-classification). When its finished, again unzip and move it to the ``AudioData/`` folder.\n",
    "\n",
    "---\n",
    "\n",
    "While the data is downloading lease have a look at the document [Information-flow-and-the-underlying-idea](https://github.com/DavidGoedicke/RealtimeAudioClassification/wiki/Information-flow-and-the-underlying-idea) in which we explain the data flow and structure of this project.\n"
   ]
  },
  {
   "cell_type": "markdown",
   "metadata": {},
   "source": [
    "## Transforming data-sets\n",
    "As mentioned before, We need to move from one folder full of data into a folder for each class. In some cases, we also need to split the data between test and training data. \n",
    "\n",
    "The following script will look at the cats-dogs data folder and use the .csv file seperate them into the different folders."
   ]
  },
  {
   "cell_type": "code",
   "execution_count": null,
   "metadata": {
    "scrolled": true
   },
   "outputs": [],
   "source": [
    "SOURCEFOLDER= '../AudioData/audio-cats-and-dogs/cats_dogs/'\n",
    "CSV = '../AudioData/audio-cats-and-dogs/train_test_split.csv'\n",
    "folderNames=['train','test']  # We define a list of folders for us to store the data in\n",
    "classes = ['cat','dog'] # Similar like the row above, we define the classes that will turn into folders later\n",
    "ClassFolderPath={} # Dictionaries are a handy way to keep track of complex data like a folder path\n",
    "\n",
    "'''\n",
    "In the following lines of the script, we make sure that the target folders exsist. \n",
    "The first for loops checks for the test and train folder and the inside for loop looks for the class folders.\n",
    "If they do not exsists they are created.\n",
    "The path are all added to the dictionary to use later.\n",
    "'''\n",
    "for i in folderNames: \n",
    "    TopLevelFolder = os.path.join(SOURCEFOLDER,i)\n",
    "    if not os.path.exists(TopLevelFolder):\n",
    "        os.makedirs(TopLevelFolder)\n",
    "    TempDict={}\n",
    "    for c in classes:\n",
    "        LowLevelFolder = os.path.join(TopLevelFolder,c)\n",
    "        if not os.path.exists(LowLevelFolder):\n",
    "            os.makedirs(LowLevelFolder)\n",
    "        TempDict[c] = LowLevelFolder\n",
    "    ClassFolderPath[i] = TempDict;\n",
    "\n",
    "'''\n",
    "\n",
    "We now have a nested dictionary with the final folder path.\n",
    "This allows us to find the folder path e.g. \n",
    "for the cats - training folder like this ClassFolderPath['train']['cat'].\n",
    "\n",
    "\n",
    "This makes it very easy to seperate out the different files and move them to the correct folder. \n",
    "\n",
    "\n",
    "'''\n",
    "    \n",
    "with open(CSV, newline='') as csvfile:\n",
    "    reader = csv.DictReader(csvfile)\n",
    "    for row in reader:\n",
    "        for key in row.keys():\n",
    "            if(len(key)==0):\n",
    "                continue;\n",
    "            if(len(row[key])==0):\n",
    "                continue\n",
    "            outDirectoryPath=''    \n",
    "            if('cat'in key and 'train' in key):\n",
    "                outDirectoryPath= ClassFolderPath['train']['cat']\n",
    "            elif('cat'in key and 'test' in key):\n",
    "                outDirectoryPath= ClassFolderPath['test']['cat']\n",
    "            elif('dog'in key and 'train' in key):\n",
    "                outDirectoryPath= ClassFolderPath['train']['dog']\n",
    "            elif('dog'in key and 'test' in key):\n",
    "                outDirectoryPath= ClassFolderPath['test']['dog']\n",
    "            inFilePath = os.path.join(SOURCEFOLDER,row[key])\n",
    "            outFilePath =os.path.join(outDirectoryPath,row[key])\n",
    "            if(os.path.isfile(inFilePath) and not os.path.isfile(outFilePath)):\n",
    "                os.rename(inFilePath,outFilePath)\n",
    "                print(\"Moved file: \"+row[key])\n",
    "            else:\n",
    "                print(\"Skipping file: \"+row[key]+ \" as it already exsists\")"
   ]
  },
  {
   "cell_type": "markdown",
   "metadata": {},
   "source": [
    "**HOT TIP:**\n",
    "If you write your own code, while testing, instead of calling ``os.rename(inFilePath,outFilePath)`` first print out the path like ``print(inFilePath,outFilePath)`` and compare them by hand. Not only can it be a if the code does not work correctly but if you are not careful and move files into or away from your root directory ``/``, you can mess up your operating system really easily. In other words, make sure your code works befor you start moving around big chunks of files.\n"
   ]
  },
  {
   "cell_type": "markdown",
   "metadata": {},
   "source": [
    "## The Next Steps \n",
    "After we organizied our data into class folders we can no generate the spectrograms we will be using to classify the incoming sound. \n",
    "Go to folder ``01_Spectrum Generation/`` and open the Notebook it contains. Further, look at the section ``Squishing time  - taking a snapshot`` [here](https://github.com/DavidGoedicke/RealtimeAudioClassification/wiki/Information-flow-and-the-underlying-idea#squishing-time----taking-a-snapshot) for an explanation for whats happening."
   ]
  },
  {
   "cell_type": "markdown",
   "metadata": {},
   "source": [
    "## Urban sound preperation\n",
    "\n",
    "The test files are not usefule to us. We can only use the train data that contain labels. This is why we only reorganize the ``Train`` folder."
   ]
  },
  {
   "cell_type": "code",
   "execution_count": null,
   "metadata": {},
   "outputs": [],
   "source": [
    "SOURCEFOLDER= '../AudioData/urban-sound-classification/train/Train/'\n",
    "CSV = '../AudioData/urban-sound-classification/train/train.csv'\n",
    "'''\n",
    "The Urban-Sounds csv file is slighlty differently organized.\n",
    "Each file ID appears in the list and has the actual class written next to it.\n",
    "We can use the class name to create and use the class folder. and move the files to where they need to go. \n",
    "'''\n",
    "\n",
    "with open(CSV, newline='') as csvfile:\n",
    "    readCSV = csv.reader(csvfile, delimiter=',')\n",
    "    for row  in readCSV:\n",
    "        if( row[0]=='ID'):\n",
    "            continue;   \n",
    "        targetFolder = os.path.join(SOURCEFOLDER,row[1]) #row[1] contains the class name \n",
    "        if not os.path.exists(targetFolder): #. checking if the folder exsists\n",
    "            os.makedirs(targetFolder) #if !NOT! then we create a new directory\n",
    "        filename = row[0]+\".wav\"  #Row[0] contains the id. \n",
    "        inFilePath = os.path.join(SOURCEFOLDER,filename) # Creating source path\n",
    "        outFilePath = os.path.join(targetFolder,filename) # Creating target path \n",
    "        if(os.path.isfile(inFilePath) and not os.path.isfile(outFilePath)): # Checking if we are not overwriting something \n",
    "            print(\"Moved file: \"+filename)\n",
    "            os.rename(inFilePath,outFilePath) # Moving the file\n",
    "        else:\n",
    "            print(\"Skipping file: \"+filename+ \" as it already exsists\") # if the target file already exsisted or the source was not there\n",
    "       "
   ]
  },
  {
   "cell_type": "markdown",
   "metadata": {},
   "source": [
    "## Appendix\n",
    "\n",
    "### Handy Links\n",
    "\n",
    "https://stackoverflow.com/questions/8858008/how-to-move-a-file-in-python    how to move a file in python\n"
   ]
  },
  {
   "cell_type": "code",
   "execution_count": null,
   "metadata": {},
   "outputs": [],
   "source": []
  }
 ],
 "metadata": {
  "kernelspec": {
   "display_name": "Python 3",
   "language": "python",
   "name": "python3"
  },
  "language_info": {
   "codemirror_mode": {
    "name": "ipython",
    "version": 3
   },
   "file_extension": ".py",
   "mimetype": "text/x-python",
   "name": "python",
   "nbconvert_exporter": "python",
   "pygments_lexer": "ipython3",
   "version": "3.7.3"
  }
 },
 "nbformat": 4,
 "nbformat_minor": 2
}
