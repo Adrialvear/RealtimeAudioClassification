{
 "cells": [
  {
   "cell_type": "markdown",
   "metadata": {},
   "source": [
    "## Install Libraries\n",
    "\n",
    "We will install the software libraries necessary for this week's tutorials, and test them to make sure they work.\n",
    "\n",
    "Install [NumPy](https://en.wikipedia.org/wiki/NumPy) (Python support for large, multi-dimensional arrays and matrices ): ```conda install -c conda-forge numpy ```  \n",
    "Install [MatplotLib](https://matplotlib.org) (Python 2D plotting library ): ```conda install -c conda-forge matplotlib ```  \n",
    "Install [NumPy Ringbuffer](https://pypi.org/project/numpy_ringbuffer/) (Ringbuffer Data structure library ) ```pip install numpy_ringbuffer```  \n",
    "Install [pyTorch](https://pytorch.org/get-started/locally/) (Python Machine Learning Library ): ```conda install pytorch torchvision -c pytorch```  \n",
    "Install [opencv2](https://opencv.org) (Computer Vision library) : ```conda install -c conda-forge  opencv=3.4.1```  \n",
    "Install [sklearn](https://scikit-learn.org/stable/) (SciKit Machine Learning library): ```conda install scikit-learn```  \n",
    "Install [librosa](https://librosa.github.io/librosa/) (Music and Audio analysis library ): ```conda install -c conda-forge librosa ```  \n",
    "Install [PyAudio](https://people.csail.mit.edu/hubert/pyaudio/) (Python bindings for PortAudio, the cross-platform audio I/O library ) : ```conda install -c anaconda pyaudio```  \n"
   ]
  },
  {
   "cell_type": "markdown",
   "metadata": {},
   "source": [
    "## Test setup\n",
    "\n",
    "In the code below, we load (\"import\") the libraries that we just installed above, to make sure that Python can find the libraries. \n"
   ]
  },
  {
   "cell_type": "code",
   "execution_count": 1,
   "metadata": {},
   "outputs": [
    {
     "name": "stdout",
     "output_type": "stream",
     "text": [
      "Found all built-in libraries.\n",
      "Found all math libraries.\n",
      "Found all audio libraries.\n",
      "Found all machine learning libraries.\n"
     ]
    },
    {
     "ename": "ImportError",
     "evalue": "dlopen(/Users/wendyju/anaconda3/lib/python3.7/site-packages/cv2.cpython-37m-darwin.so, 2): Library not loaded: @rpath/libx264.138.dylib\n  Referenced from: /Users/wendyju/anaconda3/lib/libavcodec.57.dylib\n  Reason: image not found",
     "output_type": "error",
     "traceback": [
      "\u001b[0;31m-----------------------------------------------------------------\u001b[0m",
      "\u001b[0;31mImportError\u001b[0m                     Traceback (most recent call last)",
      "\u001b[0;32m<ipython-input-1-48f0088b940e>\u001b[0m in \u001b[0;36m<module>\u001b[0;34m\u001b[0m\n\u001b[1;32m     18\u001b[0m \u001b[0;32mfrom\u001b[0m \u001b[0msklearn\u001b[0m\u001b[0;34m.\u001b[0m\u001b[0mmetrics\u001b[0m \u001b[0;32mimport\u001b[0m \u001b[0mconfusion_matrix\u001b[0m\u001b[0;34m\u001b[0m\u001b[0;34m\u001b[0m\u001b[0m\n\u001b[1;32m     19\u001b[0m \u001b[0mprint\u001b[0m\u001b[0;34m(\u001b[0m\u001b[0;34m\"Found all machine learning libraries.\"\u001b[0m\u001b[0;34m)\u001b[0m\u001b[0;34m\u001b[0m\u001b[0;34m\u001b[0m\u001b[0m\n\u001b[0;32m---> 20\u001b[0;31m \u001b[0;32mimport\u001b[0m \u001b[0mcv2\u001b[0m \u001b[0;32mas\u001b[0m \u001b[0mcv\u001b[0m\u001b[0;34m\u001b[0m\u001b[0;34m\u001b[0m\u001b[0m\n\u001b[0m\u001b[1;32m     21\u001b[0m \u001b[0mprint\u001b[0m\u001b[0;34m(\u001b[0m\u001b[0;34m\"Found the computer vision library.\"\u001b[0m\u001b[0;34m)\u001b[0m\u001b[0;34m\u001b[0m\u001b[0;34m\u001b[0m\u001b[0m\n",
      "\u001b[0;31mImportError\u001b[0m: dlopen(/Users/wendyju/anaconda3/lib/python3.7/site-packages/cv2.cpython-37m-darwin.so, 2): Library not loaded: @rpath/libx264.138.dylib\n  Referenced from: /Users/wendyju/anaconda3/lib/libavcodec.57.dylib\n  Reason: image not found"
     ]
    }
   ],
   "source": [
    "import csv\n",
    "import os\n",
    "import wave\n",
    "import time\n",
    "import multiprocessing\n",
    "from threading import Thread\n",
    "import os\n",
    "print(\"Found all built-in libraries.\")\n",
    "import numpy as np\n",
    "from numpy_ringbuffer import RingBuffer\n",
    "import matplotlib.pyplot as plt\n",
    "print(\"Found all math libraries.\")\n",
    "import pyaudio\n",
    "import librosa\n",
    "print(\"Found all audio libraries.\")\n",
    "import torch\n",
    "from torchvision import datasets, transforms, models\n",
    "from sklearn.metrics import confusion_matrix\n",
    "print(\"Found all machine learning libraries.\")\n",
    "import cv2 as cv\n",
    "print(\"Found the computer vision library.\")\n"
   ]
  },
  {
   "cell_type": "markdown",
   "metadata": {},
   "source": [
    "If the above code runs without a problem, all libraries have installed and can be loaded. While it does not gurantee that everything will work, this is a good sign.\n"
   ]
  },
  {
   "cell_type": "markdown",
   "metadata": {},
   "source": [
    "## Create AudioData folder \n",
    "\n",
    "In the dashboard of this notebook, go to ``File->Open`` to see the folder this notebook is kept in. \n",
    "\n",
    "Create folder by going to ``New->Folder``. (The New button is to the upper right of the file listing.)\n",
    "\n",
    "Rename the folder by clicking the checkbox before the new ``Untitled Folder`` that appears, and clicking on the Rename button (to the upper left of the file listing).\n",
    "\n",
    "Name the new folder ``AudioData``.\n",
    "\n",
    "If you check your workshop folder with Windows Explorer, Finder or the equivalent terminal program, you will see that ``AudioData`` folder.\n",
    "\n"
   ]
  },
  {
   "cell_type": "markdown",
   "metadata": {},
   "source": [
    "## Download datasets\n",
    "\n",
    "We will be using two audio datasets in the first lab: Cats vs. Dogs and UrbanSounds. To download these datasets, you will need to create accounts on [Kaggle](www.kaggle.com), a data science community site run by Google, which has, among other things, datasets for machine learning, and the Urbansounds dataset website.\n",
    "\n",
    "[Cats vs. Dogs](www.kaggle.com/mmoreaux/audio-cats-and-dogs)\n",
    "\n",
    "[Urban Sounds](https://urbansounddataset.weebly.com/download-urbansound.html)\n",
    "\n",
    "When these datasets are finished downloading, unzip the files and move them to the ``AudioData/`` folder.\n",
    "\n",
    "\n",
    "    "
   ]
  },
  {
   "cell_type": "code",
   "execution_count": null,
   "metadata": {},
   "outputs": [],
   "source": []
  }
 ],
 "metadata": {
  "kernelspec": {
   "display_name": "Python 3",
   "language": "python",
   "name": "python3"
  },
  "language_info": {
   "codemirror_mode": {
    "name": "ipython",
    "version": 3
   },
   "file_extension": ".py",
   "mimetype": "text/x-python",
   "name": "python",
   "nbconvert_exporter": "python",
   "pygments_lexer": "ipython3",
   "version": "3.7.3"
  }
 },
 "nbformat": 4,
 "nbformat_minor": 2
}
