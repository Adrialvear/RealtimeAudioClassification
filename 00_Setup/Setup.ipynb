{
 "cells": [
  {
   "cell_type": "markdown",
   "metadata": {},
   "source": [
    "## Install Libraries\n",
    "\n",
    "We will install the software libraries necessary for this week's tutorials, and test them to make sure they work.\n",
    "\n",
    "You can try to install all  required componenets by running the comand below.\n",
    "\n",
    "If that does not work you can slo use command-line or terminal. Have alook at the linked page for more detail. [the linked wiki page will help you](https://github.com/DavidGoedicke/RealtimeAudioClassification/wiki/Command-lines-and-terminals-a-quick-introduction.md)\n",
    "\n",
    "The libraries that we will use.\n",
    "\n",
    "[NumPy](https://en.wikipedia.org/wiki/NumPy) (Python support for large, multi-dimensional arrays and matrices ).\n",
    "\n",
    "[MatplotLib](https://matplotlib.org) (Python 2D plotting library).\n",
    "\n",
    "[pyTorch](https://pytorch.org/get-started/locally/) (Python Machine Learning Library).\n",
    "\n",
    "[sklearn](https://scikit-learn.org/stable/) (SciKit Machine Learning library).\n",
    "\n",
    "[librosa](https://librosa.github.io/librosa/) (Music and Audio analysis library).\n",
    "\n",
    "[PyAudio](https://people.csail.mit.edu/hubert/pyaudio/) (Python bindings for PortAudio, the cross-platform audio I/O library).  \n"
   ]
  },
  {
   "cell_type": "code",
   "execution_count": 8,
   "metadata": {
    "collapsed": true
   },
   "outputs": [
    {
     "name": "stdout",
     "output_type": "stream",
     "text": [
      "Requirement already satisfied: numpy in /Users/dg/venvs/py37/lib/python3.7/site-packages (1.18.2)\n",
      "Requirement already satisfied: matplotlib in /Users/dg/venvs/py37/lib/python3.7/site-packages (3.2.1)\n",
      "Requirement already satisfied: torch in /Users/dg/venvs/py37/lib/python3.7/site-packages (1.4.0)\n",
      "Requirement already satisfied: torchvision in /Users/dg/venvs/py37/lib/python3.7/site-packages (0.5.0)\n",
      "Requirement already satisfied: scikit-learn in /Users/dg/venvs/py37/lib/python3.7/site-packages (0.22.2.post1)\n",
      "Requirement already satisfied: librosa in /Users/dg/venvs/py37/lib/python3.7/site-packages (0.7.2)\n",
      "Requirement already satisfied: pyaudio in /Users/dg/venvs/py37/lib/python3.7/site-packages (0.2.11)\n",
      "Requirement already satisfied: python-dateutil>=2.1 in /Users/dg/venvs/py37/lib/python3.7/site-packages (from matplotlib) (2.8.1)\n",
      "Requirement already satisfied: pyparsing!=2.0.4,!=2.1.2,!=2.1.6,>=2.0.1 in /Users/dg/venvs/py37/lib/python3.7/site-packages (from matplotlib) (2.4.7)\n",
      "Requirement already satisfied: cycler>=0.10 in /Users/dg/venvs/py37/lib/python3.7/site-packages (from matplotlib) (0.10.0)\n",
      "Requirement already satisfied: kiwisolver>=1.0.1 in /Users/dg/venvs/py37/lib/python3.7/site-packages (from matplotlib) (1.2.0)\n",
      "Requirement already satisfied: six in /Users/dg/venvs/py37/lib/python3.7/site-packages (from torchvision) (1.14.0)\n",
      "Requirement already satisfied: pillow>=4.1.1 in /Users/dg/venvs/py37/lib/python3.7/site-packages (from torchvision) (7.1.1)\n",
      "Requirement already satisfied: scipy>=0.17.0 in /Users/dg/venvs/py37/lib/python3.7/site-packages (from scikit-learn) (1.4.1)\n",
      "Requirement already satisfied: joblib>=0.11 in /Users/dg/venvs/py37/lib/python3.7/site-packages (from scikit-learn) (0.14.1)\n",
      "Requirement already satisfied: numba>=0.43.0 in /Users/dg/venvs/py37/lib/python3.7/site-packages (from librosa) (0.48.0)\n",
      "Requirement already satisfied: resampy>=0.2.2 in /Users/dg/venvs/py37/lib/python3.7/site-packages (from librosa) (0.2.2)\n",
      "Requirement already satisfied: audioread>=2.0.0 in /Users/dg/venvs/py37/lib/python3.7/site-packages (from librosa) (2.1.8)\n",
      "Requirement already satisfied: soundfile>=0.9.0 in /Users/dg/venvs/py37/lib/python3.7/site-packages (from librosa) (0.10.3.post1)\n",
      "Requirement already satisfied: decorator>=3.0.0 in /Users/dg/venvs/py37/lib/python3.7/site-packages (from librosa) (4.4.2)\n",
      "Requirement already satisfied: setuptools in /Users/dg/venvs/py37/lib/python3.7/site-packages (from numba>=0.43.0->librosa) (41.2.0)\n",
      "Requirement already satisfied: llvmlite<0.32.0,>=0.31.0dev0 in /Users/dg/venvs/py37/lib/python3.7/site-packages (from numba>=0.43.0->librosa) (0.31.0)\n",
      "Requirement already satisfied: cffi>=1.0 in /Users/dg/venvs/py37/lib/python3.7/site-packages (from soundfile>=0.9.0->librosa) (1.14.0)\n",
      "Requirement already satisfied: pycparser in /Users/dg/venvs/py37/lib/python3.7/site-packages (from cffi>=1.0->soundfile>=0.9.0->librosa) (2.20)\n",
      "Note: you may need to restart the kernel to use updated packages.\n"
     ]
    }
   ],
   "source": [
    "pip install numpy matplotlib torch torchvision scikit-learn librosa pyaudio"
   ]
  },
  {
   "cell_type": "markdown",
   "metadata": {},
   "source": [
    "## Test setup\n",
    "\n",
    "In the code below, we load (\"import\") the libraries that we just installed above, to make sure that Python can find the libraries. \n"
   ]
  },
  {
   "cell_type": "code",
   "execution_count": 11,
   "metadata": {},
   "outputs": [
    {
     "name": "stdout",
     "output_type": "stream",
     "text": [
      "-------Found all built-in libraries.-------\n",
      "Found numpy  1.18.2\n",
      "Found matplotlib  3.2.1\n",
      "-------Found all math libraries.-------\n",
      "Found pyaudio  0.2.11\n",
      "Found librosa  0.7.2\n",
      "-------Found all audio libraries.-------\n",
      "Found torch  1.4.0\n",
      "-------Found all machine learning libraries.-------\n"
     ]
    }
   ],
   "source": [
    "import csv\n",
    "import os\n",
    "import wave\n",
    "import time\n",
    "import multiprocessing\n",
    "from threading import Thread\n",
    "import os\n",
    "print(\"-------Found all built-in libraries.-------\")\n",
    "import numpy as np\n",
    "print(\"Found numpy \",np.__version__)\n",
    "import matplotlib\n",
    "print(\"Found matplotlib \",matplotlib.__version__)\n",
    "print(\"-------Found all math libraries.-------\")\n",
    "import pyaudio\n",
    "print(\"Found pyaudio \",pyaudio.__version__)\n",
    "import librosa\n",
    "print(\"Found librosa \",librosa.__version__)\n",
    "print(\"-------Found all audio libraries.-------\")\n",
    "import torch\n",
    "print(\"Found torch \",torch.__version__)\n",
    "from torchvision import datasets, transforms, models\n",
    "from sklearn.metrics import confusion_matrix\n",
    "print(\"-------Found all machine learning libraries.-------\")\n"
   ]
  },
  {
   "cell_type": "markdown",
   "metadata": {},
   "source": [
    "If the above code runs without a problem, all libraries have installed and can be loaded. While it does not gurantee that everything will work, this is a very good sign.\n"
   ]
  },
  {
   "cell_type": "code",
   "execution_count": null,
   "metadata": {},
   "outputs": [],
   "source": []
  }
 ],
 "metadata": {
  "kernelspec": {
   "display_name": "py37",
   "language": "python",
   "name": "py37"
  },
  "language_info": {
   "codemirror_mode": {
    "name": "ipython",
    "version": 3
   },
   "file_extension": ".py",
   "mimetype": "text/x-python",
   "name": "python",
   "nbconvert_exporter": "python",
   "pygments_lexer": "ipython3",
   "version": "3.7.7"
  }
 },
 "nbformat": 4,
 "nbformat_minor": 2
}
