{
 "cells": [
  {
   "cell_type": "markdown",
   "metadata": {},
   "source": [
    "## Setup \n",
    "\n",
    "In this document we make sure all libraries can load, and we download the inital relquired data-sets. etc.\n",
    "As a reminder we tried to install a host of libraries. If those functions did not work, the follow codebox will not execute.\n",
    "\n",
    "**As a reminder again the install instructions:** \n",
    "\n",
    "Install NumPy: ```conda install -c conda-forge numpy ```  \n",
    "Install MatplotLib: ```conda install -c conda-forge matplotlib ```  \n",
    "Install from: https://pypi.org/project/numpy_ringbuffer/ ```pip install numpy_ringbuffer```  \n",
    "Install pyTorch: https://pytorch.org/get-started/locally/ so e.g. ```conda install pytorch torchvision -c pytorch```  \n",
    "Install opencv2: ```conda install -c conda-forge  opencv=3.4.1```  \n",
    "Install sklearn: ```conda install scikit-learn```  \n",
    "Install librosa: ```conda install -c conda-forge librosa ```  \n",
    "Install PyAudio: ```conda install -c anaconda pyaudio```  "
   ]
  },
  {
   "cell_type": "code",
   "execution_count": 1,
   "metadata": {},
   "outputs": [
    {
     "name": "stdout",
     "output_type": "stream",
     "text": [
      "Found all build-in libraries.\n",
      "Found all math libraries.\n",
      "Found all audio libraries.\n",
      "Found all machine learning libraries.\n",
      "Found the computer vision librarie.\n"
     ]
    }
   ],
   "source": [
    "import csv\n",
    "import os\n",
    "import wave\n",
    "import time\n",
    "import multiprocessing\n",
    "from threading import Thread\n",
    "import os\n",
    "print(\"Found all build-in libraries.\")\n",
    "import numpy as np\n",
    "from numpy_ringbuffer import RingBuffer\n",
    "import matplotlib.pyplot as plt\n",
    "print(\"Found all math libraries.\")\n",
    "import pyaudio\n",
    "import librosa\n",
    "print(\"Found all audio libraries.\")\n",
    "import torch\n",
    "from torchvision import datasets, transforms, models\n",
    "from sklearn.metrics import confusion_matrix\n",
    "print(\"Found all machine learning libraries.\")\n",
    "import cv2 as cv\n",
    "print(\"Found the computer vision library.\")\n"
   ]
  },
  {
   "cell_type": "markdown",
   "metadata": {},
   "source": [
    "If the above code runs without a problem, all libraries have installed and can be loaded. While it does not gurantee that everything will work, this is a good sign.\n",
    "\n",
    "## Getting data, lots of data\n",
    "\n",
    "One of the iomportant aspects for neural networks is that you need a lot of data that is diverse enough toreally teach the network the difference between the classes sounds that you are trting to seperate.\n",
    "\n",
    "For the first exsersize and run down, we will use a typical mashin learning example, Cats vs. Dogs, but this time in audio form.Go head on over to the following kaggle link, make an account and download the data: Download: [www.kaggle.com/mmoreaux/audio-cats-and-dogs](https://www.kaggle.com/mmoreaux/audio-cats-and-dogs/downloads/audio-cats-and-dogs.zip/). After it finished downloading, unzip the folder and move it to to the  ``AudioData/`` folder in the repository.\n",
    "\n",
    "---\n",
    "\n",
    "In the meantime, whiloe things are downloading, and you are working go ahead and stat downloading the Urban sound data sets [here on kaggle](https://www.kaggle.com/pavansanagapati/urban-sound-classification). When its finished, again unzip and move it to the ``AudioData/`` folder.\n",
    "\n",
    "---\n",
    "\n",
    "While the data is downloading lease have alook at the document []() where we explain the data flow for this project.\n"
   ]
  },
  {
   "cell_type": "markdown",
   "metadata": {},
   "source": [
    "## Transforming data-sets\n",
    "As mentioned befor, We need to move from one folder full of data into a folder for each class. In somoe cases we also need to split the dat wbetween test and train data. Why that is important we will come back to later, but for now understand that its important to have data to train with and data to test against.\n",
    "\n",
    "The following script will look at the cats-dogs data folder and use the .csv file seperate them into the different folders."
   ]
  },
  {
   "cell_type": "code",
   "execution_count": null,
   "metadata": {
    "scrolled": true
   },
   "outputs": [],
   "source": [
    "SOURCEFOLDER= '../AudioData/audio-cats-and-dogs/cats_dogs/'\n",
    "CSV = '../AudioData/audio-cats-and-dogs/train_test_split.csv'\n",
    "folderNames=['train','test']  # We define a list of folders for us to store the data in\n",
    "classes = ['cat','dog'] # Similar like the row above, we define the classes that will turn into folders later\n",
    "ClassFolderPath={} # Dictionaries are a handy way to keep track of complex data like a folder path\n",
    "\n",
    "'''\n",
    "In the following lines of the script, we make sure that the target folders exsist. \n",
    "The first for loops checks for the test and train folder and the inside for loop looks for the class folders.\n",
    "If they do not exsists they are created.\n",
    "The path are all added to the dictionary to use later.\n",
    "'''\n",
    "for i in folderNames: \n",
    "    TopLevelFolder = os.path.join(SOURCEFOLDER,i)\n",
    "    if not os.path.exists(TopLevelFolder):\n",
    "        os.makedirs(TopLevelFolder)\n",
    "    TempDict={}\n",
    "    for c in classes:\n",
    "        LowLevelFolder = os.path.join(TopLevelFolder,c)\n",
    "        if not os.path.exists(LowLevelFolder):\n",
    "            os.makedirs(LowLevelFolder)\n",
    "        TempDict[c] = LowLevelFolder\n",
    "    ClassFolderPath[i] = TempDict;\n",
    "\n",
    "'''\n",
    "\n",
    "We now have a nested dictionary with the final folder path.\n",
    "This allows us to find the folder path e.g. \n",
    "for the cats - training folder like this ClassFolderPath['train']['cat'].\n",
    "\n",
    "\n",
    "This makes it very easy to seperate out the different files and move them to the correct folder. \n",
    "\n",
    "\n",
    "'''\n",
    "    \n",
    "    \n",
    "    \n",
    "with open(CSV, newline='') as csvfile:\n",
    "    reader = csv.DictReader(csvfile)\n",
    "    for row in reader:\n",
    "        for key in row.keys():\n",
    "            if(len(key)==0):\n",
    "                continue;\n",
    "            if(len(row[key])==0):\n",
    "                continue\n",
    "            outDirectoryPath=''    \n",
    "            if('cat'in key and 'train' in key):\n",
    "                outDirectoryPath= ClassFolderPath['train']['cat']\n",
    "            elif('cat'in key and 'test' in key):\n",
    "                outDirectoryPath= ClassFolderPath['test']['cat']\n",
    "            elif('dog'in key and 'train' in key):\n",
    "                outDirectoryPath= ClassFolderPath['train']['dog']\n",
    "            elif('dog'in key and 'test' in key):\n",
    "                outDirectoryPath= ClassFolderPath['test']['dog']\n",
    "            inFilePath = os.path.join(SOURCEFOLDER,row[key])\n",
    "            outFilePath =os.path.join(outDirectoryPath,row[key])\n",
    "            if(os.path.isfile(inFilePath) and not os.path.isfile(outFilePath)):\n",
    "                os.rename(inFilePath,outFilePath)\n",
    "                print(\"Moved file: \"+row[key])\n",
    "            else:\n",
    "                print(\"Skipping file: \"+row[key]+ \"as it already exsists\")"
   ]
  },
  {
   "cell_type": "markdown",
   "metadata": {},
   "source": [
    "**HOTTIP:**\n",
    "If you write your own code, while testing, instead of calling ``os.rename(inFilePath,outFilePath)`` first print out the path like ``print(inFilePath,outFilePath)`` and compare them by and. Not only can it be a if the code does not work correclty but if you are not carfull and move files into or away from lets say ``/``(root) you can mess up your system really easily. In other words, make sure your code works befor you start moving around big chuncks of files.\n"
   ]
  },
  {
   "cell_type": "markdown",
   "metadata": {},
   "source": [
    "## Urban sound preperation\n",
    "\n",
    "The test files are not usefule to us. We can only use the train data that contain labels. This is why we only reorganize the ``Train`` folder."
   ]
  },
  {
   "cell_type": "code",
   "execution_count": null,
   "metadata": {},
   "outputs": [],
   "source": [
    "SOURCEFOLDER= '../AudioData/urban-sound-classification/train/Train/'\n",
    "CSV = '../AudioData/urban-sound-classification/train/train.csv'\n",
    "with open(CSV, newline='') as csvfile:\n",
    "    readCSV = csv.reader(csvfile, delimiter=',')\n",
    "    for row  in readCSV:\n",
    "        if( row[0]=='ID'):\n",
    "            continue;   \n",
    "        targetFolder = os.path.join(SOURCEFOLDER,row[1])\n",
    "        if not os.path.exists(targetFolder):\n",
    "            os.makedirs(targetFolder)\n",
    "        filename = row[0]+\".wav\"\n",
    "        inFilePath = os.path.join(SOURCEFOLDER,filename)\n",
    "        outFilePath = os.path.join(targetFolder,filename)\n",
    "        if(os.path.isfile(inFilePath) and not os.path.isfile(outFilePath)):\n",
    "            print(\"Moved file: \"+filename)\n",
    "            os.rename(inFilePath,outFilePath)\n",
    "        else:\n",
    "            print(\"Skipping file: \"+filename+ \"as it already exsists\")\n",
    "       "
   ]
  },
  {
   "cell_type": "markdown",
   "metadata": {},
   "source": [
    "## Appendix\n",
    "\n",
    "### Handy Links\n",
    "\n",
    "https://stackoverflow.com/questions/8858008/how-to-move-a-file-in-python    how to move a file in python\n"
   ]
  },
  {
   "cell_type": "code",
   "execution_count": null,
   "metadata": {},
   "outputs": [],
   "source": []
  }
 ],
 "metadata": {
  "kernelspec": {
   "display_name": "Python3.6 workshop",
   "language": "python",
   "name": "workshop"
  },
  "language_info": {
   "codemirror_mode": {
    "name": "ipython",
    "version": 3
   },
   "file_extension": ".py",
   "mimetype": "text/x-python",
   "name": "python",
   "nbconvert_exporter": "python",
   "pygments_lexer": "ipython3",
   "version": "3.6.8"
  }
 },
 "nbformat": 4,
 "nbformat_minor": 2
}
