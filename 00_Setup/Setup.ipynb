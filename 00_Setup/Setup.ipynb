{
 "cells": [
  {
   "cell_type": "markdown",
   "metadata": {},
   "source": [
    "## Install Libraries\n",
    "\n",
    "We will install the software libraries necessary for this week's tutorials, and test them to make sure they work.\n",
    "\n",
    "Install NumPy (Python support for large, multi-dimensional arrays and matrices https://en.wikipedia.org/wiki/NumPy): ```conda install -c conda-forge numpy ```  \n",
    "Install MatplotLib (Python 2D plotting library https://matplotlib.org): ```conda install -c conda-forge matplotlib ```  \n",
    "Install NumPy Ringbuffer (Ringbuffer Data structure library https://pypi.org/project/numpy_ringbuffer/) ```pip install numpy_ringbuffer```  \n",
    "Install pyTorch (Python Machine Learning Library https://pytorch.org/get-started/locally/): ```conda install pytorch torchvision -c pytorch```  \n",
    "Install opencv2 (Computer Vision library https://opencv.org) : ```conda install -c conda-forge  opencv=3.4.1```  \n",
    "Install sklearn (SciKit Machine Learning library https://scikit-learn.org/stable/): ```conda install scikit-learn```  \n",
    "Install librosa (Music and Audio analysis library https://librosa.github.io/librosa/): ```conda install -c conda-forge librosa ```  \n",
    "Install PyAudio (Python bindings for PortAudio, the cross-platform audio I/O library https://people.csail.mit.edu/hubert/pyaudio/) : ```conda install -c anaconda pyaudio```  \n"
   ]
  },
  {
   "cell_type": "markdown",
   "metadata": {},
   "source": [
    "## Test setup\n",
    "\n",
    "In the code below, we load (\"import\") the libraries that we just installed above, to make sure that Python can find the libraries. \n"
   ]
  },
  {
   "cell_type": "code",
   "execution_count": 7,
   "metadata": {},
   "outputs": [
    {
     "name": "stdout",
     "output_type": "stream",
     "text": [
      "Found all built-in libraries.\n",
      "Found all math libraries.\n",
      "Found all audio libraries.\n",
      "Found all machine learning libraries.\n"
     ]
    },
    {
     "ename": "ImportError",
     "evalue": "dlopen(/Users/wendyju/anaconda3/lib/python3.7/site-packages/cv2.cpython-37m-darwin.so, 2): Library not loaded: @rpath/libx264.138.dylib\n  Referenced from: /Users/wendyju/anaconda3/lib/libavcodec.57.dylib\n  Reason: image not found",
     "output_type": "error",
     "traceback": [
      "\u001b[0;31m-----------------------------------------------------------------\u001b[0m",
      "\u001b[0;31mImportError\u001b[0m                     Traceback (most recent call last)",
      "\u001b[0;32m<ipython-input-7-48f0088b940e>\u001b[0m in \u001b[0;36m<module>\u001b[0;34m\u001b[0m\n\u001b[1;32m     18\u001b[0m \u001b[0;32mfrom\u001b[0m \u001b[0msklearn\u001b[0m\u001b[0;34m.\u001b[0m\u001b[0mmetrics\u001b[0m \u001b[0;32mimport\u001b[0m \u001b[0mconfusion_matrix\u001b[0m\u001b[0;34m\u001b[0m\u001b[0;34m\u001b[0m\u001b[0m\n\u001b[1;32m     19\u001b[0m \u001b[0mprint\u001b[0m\u001b[0;34m(\u001b[0m\u001b[0;34m\"Found all machine learning libraries.\"\u001b[0m\u001b[0;34m)\u001b[0m\u001b[0;34m\u001b[0m\u001b[0;34m\u001b[0m\u001b[0m\n\u001b[0;32m---> 20\u001b[0;31m \u001b[0;32mimport\u001b[0m \u001b[0mcv2\u001b[0m \u001b[0;32mas\u001b[0m \u001b[0mcv\u001b[0m\u001b[0;34m\u001b[0m\u001b[0;34m\u001b[0m\u001b[0m\n\u001b[0m\u001b[1;32m     21\u001b[0m \u001b[0mprint\u001b[0m\u001b[0;34m(\u001b[0m\u001b[0;34m\"Found the computer vision library.\"\u001b[0m\u001b[0;34m)\u001b[0m\u001b[0;34m\u001b[0m\u001b[0;34m\u001b[0m\u001b[0m\n",
      "\u001b[0;31mImportError\u001b[0m: dlopen(/Users/wendyju/anaconda3/lib/python3.7/site-packages/cv2.cpython-37m-darwin.so, 2): Library not loaded: @rpath/libx264.138.dylib\n  Referenced from: /Users/wendyju/anaconda3/lib/libavcodec.57.dylib\n  Reason: image not found"
     ]
    }
   ],
   "source": [
    "import csv\n",
    "import os\n",
    "import wave\n",
    "import time\n",
    "import multiprocessing\n",
    "from threading import Thread\n",
    "import os\n",
    "print(\"Found all built-in libraries.\")\n",
    "import numpy as np\n",
    "from numpy_ringbuffer import RingBuffer\n",
    "import matplotlib.pyplot as plt\n",
    "print(\"Found all math libraries.\")\n",
    "import pyaudio\n",
    "import librosa\n",
    "print(\"Found all audio libraries.\")\n",
    "import torch\n",
    "from torchvision import datasets, transforms, models\n",
    "from sklearn.metrics import confusion_matrix\n",
    "print(\"Found all machine learning libraries.\")\n",
    "import cv2 as cv\n",
    "print(\"Found the computer vision library.\")\n"
   ]
  },
  {
   "cell_type": "markdown",
   "metadata": {},
   "source": [
    "If the above code runs without a problem, all libraries have installed and can be loaded. While it does not gurantee that everything will work, this is a good sign.\n"
   ]
  },
  {
   "cell_type": "code",
   "execution_count": null,
   "metadata": {},
   "outputs": [],
   "source": []
  }
 ],
 "metadata": {
  "kernelspec": {
   "display_name": "Python 3",
   "language": "python",
   "name": "python3"
  },
  "language_info": {
   "codemirror_mode": {
    "name": "ipython",
    "version": 3
   },
   "file_extension": ".py",
   "mimetype": "text/x-python",
   "name": "python",
   "nbconvert_exporter": "python",
   "pygments_lexer": "ipython3",
   "version": "3.7.3"
  }
 },
 "nbformat": 4,
 "nbformat_minor": 2
}

