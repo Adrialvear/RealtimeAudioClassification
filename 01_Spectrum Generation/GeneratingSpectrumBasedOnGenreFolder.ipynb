{
 "cells": [
  {
   "cell_type": "code",
   "execution_count": 1,
   "metadata": {},
   "outputs": [],
   "source": [
    "import csv\n",
    "import torch\n",
    "import torch.nn as nn\n",
    "import torch.nn.functional as F\n",
    "import torch.optim as optim\n",
    "from torchvision import datasets, transforms\n",
    "from torch.utils.data import Dataset\n",
    "import pandas as pd\n",
    "import numpy as np\n",
    "import librosa\n",
    "import librosa.display\n",
    "import wave\n",
    "import os\n",
    "import matplotlib.pyplot as plt\n",
    "import multiprocessing "
   ]
  },
  {
   "cell_type": "code",
   "execution_count": 2,
   "metadata": {},
   "outputs": [],
   "source": [
    "SOURCE_FOLDER_TRAIN= '../AudioData/audio-cats-and-dogs/cats_dogs/train/'\n",
    "SOURCE_FOLDER_TEST= '../AudioData/audio-cats-and-dogs/cats_dogs/test/'"
   ]
  },
  {
   "cell_type": "code",
   "execution_count": 3,
   "metadata": {},
   "outputs": [],
   "source": [
    "OUTPUT_FOLDER_TRAIN = '../GeneratedData/audio-cats-and-dogs/cats_dogs/train/'\n",
    "OUTPUT_FOLDER_TEST = '../GeneratedData/audio-cats-and-dogs/cats_dogs/test/'"
   ]
  },
  {
   "cell_type": "code",
   "execution_count": 4,
   "metadata": {},
   "outputs": [],
   "source": [
    "### Image output resolution\n",
    "\n",
    "RESOLUTION = 300\n",
    "### Spectograph resolution\n",
    "SAMPLE_RATE = 48000\n",
    "N_FFT = 1024\n",
    "HOP_LENGTH = 256\n",
    "N_MELS = RESOLUTION\n",
    "FMIN = 20\n",
    "FMAX = SAMPLE_RATE / 2 "
   ]
  },
  {
   "cell_type": "code",
   "execution_count": 5,
   "metadata": {},
   "outputs": [],
   "source": [
    "def generateOutputFolder(overwrite, path,labels_local):\n",
    "    if not os.path.exists(path):\n",
    "        #if(overwrite):\n",
    "            #TODO actually delete the folder\n",
    "        os.makedirs(path)\n",
    "    TemporaryDict={}\n",
    "    for i in labels_local:\n",
    "        LabeldDirectory = os.path.join(path,i)\n",
    "        if not os.path.exists(LabeldDirectory):\n",
    "            os.makedirs(LabeldDirectory)\n",
    "        TemporaryDict[i]=LabeldDirectory\n",
    "    return TemporaryDict"
   ]
  },
  {
   "cell_type": "code",
   "execution_count": 6,
   "metadata": {},
   "outputs": [],
   "source": [
    "### New Multithreaded\n",
    "def log_mel_spec_tfm(src_path, dst_path):\n",
    "    print(src_path)\n",
    "    fname=src_path.split('/')[-1];\n",
    "    x=[]\n",
    "    sample_rate=0\n",
    "    try:\n",
    "        channels ,sample_rate = librosa.load(src_path,mono=False)\n",
    "    except:\n",
    "        print(fname+\" Could not be computed!\")\n",
    "        return\n",
    "    if(channels.ndim==1):\n",
    "        channels= channels.reshape((1,(len(channels))))\n",
    "    channelcounter=0\n",
    "    for x in channels:\n",
    "        channelcounter+=1\n",
    "        audio_data = librosa.resample(x, sample_rate, SAMPLE_RATE)\n",
    "        n_fft = N_FFT \n",
    "        hop_length = HOP_LENGTH\n",
    "        n_mels = N_MELS\n",
    "        fmin = FMIN\n",
    "        fmax = FMAX\n",
    "        mel_spec_power = librosa.feature.melspectrogram(x, sr=sample_rate, n_fft=n_fft, \n",
    "                                                        hop_length=hop_length, \n",
    "                                                        n_mels=n_mels, power=2.0,\n",
    "                                                       fmin=fmin,fmax=fmax)\n",
    "        mel_spec_db = librosa.power_to_db(mel_spec_power, ref=np.max)\n",
    "        width = np.shape(mel_spec_db)[1]\n",
    "        if width >= n_mels:\n",
    "            for i in range(0,int(np.floor(width/n_mels))):\n",
    "                out= np.zeros(shape=(RESOLUTION,RESOLUTION))\n",
    "                if((i+1)*n_mels<=width):\n",
    "                    out = mel_spec_db[:,(i)*n_mels:(i+1)*n_mels]\n",
    "                    im = plt.imshow(out)\n",
    "                    colors = im.cmap(im.norm(out))\n",
    "                    data = colors.astype(np.float64) / np.max(colors) # normalize the data to 0 - 1\n",
    "                    data = 255 * data # Now scale by 255\n",
    "                    img = data.astype(np.uint8)\n",
    "                    out = img[:,:,0:3] \n",
    "                plt.imsave(os.path.join(dst_path,(fname.replace(\".wav\",'-').replace(\".m4a\",'-').replace(\".mp3\",'-') +str(i)+'-ch-'+str(channelcounter)+ '.png')), out) \n",
    "\n"
   ]
  },
  {
   "cell_type": "code",
   "execution_count": 7,
   "metadata": {},
   "outputs": [],
   "source": [
    "def ComputeSpectrograms(IN_FOLDER,OUT_FOLDER):\n",
    "    SourceFoldersLabels = [f.path for f in os.scandir(IN_FOLDER) if f.is_dir()]\n",
    "    for path in SourceFoldersLabels:\n",
    "        FileList = [f.path for f in os.scandir(path) if f.is_file() and (f.name.endswith(\".wav\") or f.name.endswith(\".m4a\") or f.name.endswith(\".mp3\"))]\n",
    "        Label = path.split('/')[-1]\n",
    "        outFolder = os.path.join(OUT_FOLDER,Label)\n",
    "        if not os.path.exists(outFolder):\n",
    "            os.makedirs(outFolder)\n",
    "        with multiprocessing.Pool(6) as p:\n",
    "            p.starmap(log_mel_spec_tfm, [(f,outFolder) for f in FileList])\n",
    "        print(\"Finished this pool. Now next Folder!\")\n",
    "    print(\"Done generating Spectra!\")  "
   ]
  },
  {
   "cell_type": "code",
   "execution_count": 8,
   "metadata": {},
   "outputs": [
    {
     "name": "stdout",
     "output_type": "stream",
     "text": [
      "../AudioData/audio-cats-and-dogs/cats_dogs/train/cat/cat_48.wav\n",
      "../AudioData/audio-cats-and-dogs/cats_dogs/train/cat/cat_135.wav\n",
      "../AudioData/audio-cats-and-dogs/cats_dogs/train/cat/cat_61.wav\n",
      "../AudioData/audio-cats-and-dogs/cats_dogs/train/cat/cat_72.wav\n",
      "../AudioData/audio-cats-and-dogs/cats_dogs/train/cat/cat_118.wav\n",
      "../AudioData/audio-cats-and-dogs/cats_dogs/train/cat/cat_123.wav\n"
     ]
    },
    {
     "name": "stderr",
     "output_type": "stream",
     "text": [
      "/Users/dg/anaconda3/envs/INFO6010/lib/python3.7/site-packages/librosa/filters.py:284: UserWarning: Empty filters detected in mel frequency basis. Some channels will produce empty responses. Try increasing your sampling rate (and fmax) or reducing n_mels.\n",
      "  warnings.warn('Empty filters detected in mel frequency basis. '\n"
     ]
    },
    {
     "name": "stdout",
     "output_type": "stream",
     "text": [
      "../AudioData/audio-cats-and-dogs/cats_dogs/train/cat/cat_109.wav\n"
     ]
    },
    {
     "name": "stderr",
     "output_type": "stream",
     "text": [
      "/Users/dg/anaconda3/envs/INFO6010/lib/python3.7/site-packages/librosa/filters.py:284: UserWarning: Empty filters detected in mel frequency basis. Some channels will produce empty responses. Try increasing your sampling rate (and fmax) or reducing n_mels.\n",
      "  warnings.warn('Empty filters detected in mel frequency basis. '\n"
     ]
    },
    {
     "name": "stdout",
     "output_type": "stream",
     "text": [
      "../AudioData/audio-cats-and-dogs/cats_dogs/train/cat/cat_137.wav\n",
      "../AudioData/audio-cats-and-dogs/cats_dogs/train/cat/cat_98.wav\n"
     ]
    },
    {
     "name": "stderr",
     "output_type": "stream",
     "text": [
      "/Users/dg/anaconda3/envs/INFO6010/lib/python3.7/site-packages/librosa/filters.py:284: UserWarning: Empty filters detected in mel frequency basis. Some channels will produce empty responses. Try increasing your sampling rate (and fmax) or reducing n_mels.\n",
      "  warnings.warn('Empty filters detected in mel frequency basis. '\n"
     ]
    },
    {
     "name": "stdout",
     "output_type": "stream",
     "text": [
      "../AudioData/audio-cats-and-dogs/cats_dogs/train/cat/cat_122.wav\n"
     ]
    },
    {
     "name": "stderr",
     "output_type": "stream",
     "text": [
      "/Users/dg/anaconda3/envs/INFO6010/lib/python3.7/site-packages/librosa/filters.py:284: UserWarning: Empty filters detected in mel frequency basis. Some channels will produce empty responses. Try increasing your sampling rate (and fmax) or reducing n_mels.\n",
      "  warnings.warn('Empty filters detected in mel frequency basis. '\n"
     ]
    },
    {
     "name": "stdout",
     "output_type": "stream",
     "text": [
      "../AudioData/audio-cats-and-dogs/cats_dogs/train/cat/cat_124.wav\n",
      "../AudioData/audio-cats-and-dogs/cats_dogs/train/cat/cat_75.wav\n",
      "../AudioData/audio-cats-and-dogs/cats_dogs/train/cat/cat_130.wav\n"
     ]
    },
    {
     "name": "stderr",
     "output_type": "stream",
     "text": [
      "/Users/dg/anaconda3/envs/INFO6010/lib/python3.7/site-packages/librosa/filters.py:284: UserWarning: Empty filters detected in mel frequency basis. Some channels will produce empty responses. Try increasing your sampling rate (and fmax) or reducing n_mels.\n",
      "  warnings.warn('Empty filters detected in mel frequency basis. '\n",
      "/Users/dg/anaconda3/envs/INFO6010/lib/python3.7/site-packages/librosa/filters.py:284: UserWarning: Empty filters detected in mel frequency basis. Some channels will produce empty responses. Try increasing your sampling rate (and fmax) or reducing n_mels.\n",
      "  warnings.warn('Empty filters detected in mel frequency basis. '\n"
     ]
    },
    {
     "name": "stdout",
     "output_type": "stream",
     "text": [
      "../AudioData/audio-cats-and-dogs/cats_dogs/train/cat/cat_76.wav\n",
      "../AudioData/audio-cats-and-dogs/cats_dogs/train/cat/cat_126.wav\n",
      "../AudioData/audio-cats-and-dogs/cats_dogs/train/cat/cat_99.wav\n",
      "../AudioData/audio-cats-and-dogs/cats_dogs/train/cat/cat_88.wav\n",
      "../AudioData/audio-cats-and-dogs/cats_dogs/train/cat/cat_62.wav\n",
      "../AudioData/audio-cats-and-dogs/cats_dogs/train/cat/cat_64.wav\n",
      "../AudioData/audio-cats-and-dogs/cats_dogs/train/cat/cat_73.wav\n",
      "../AudioData/audio-cats-and-dogs/cats_dogs/train/cat/cat_132.wav\n",
      "../AudioData/audio-cats-and-dogs/cats_dogs/train/cat/cat_131.wav\n",
      "../AudioData/audio-cats-and-dogs/cats_dogs/train/cat/cat_108.wav\n",
      "../AudioData/audio-cats-and-dogs/cats_dogs/train/cat/cat_17.wav\n",
      "../AudioData/audio-cats-and-dogs/cats_dogs/train/cat/cat_151.wav\n",
      "../AudioData/audio-cats-and-dogs/cats_dogs/train/cat/cat_119.wav\n",
      "../AudioData/audio-cats-and-dogs/cats_dogs/train/cat/cat_134.wav\n",
      "../AudioData/audio-cats-and-dogs/cats_dogs/train/cat/cat_146.wav\n",
      "../AudioData/audio-cats-and-dogs/cats_dogs/train/cat/cat_121.wav\n",
      "../AudioData/audio-cats-and-dogs/cats_dogs/train/cat/cat_16.wav\n",
      "../AudioData/audio-cats-and-dogs/cats_dogs/train/cat/cat_11.wav\n",
      "../AudioData/audio-cats-and-dogs/cats_dogs/train/cat/cat_71.wav\n",
      "../AudioData/audio-cats-and-dogs/cats_dogs/train/cat/cat_10.wav\n",
      "../AudioData/audio-cats-and-dogs/cats_dogs/train/cat/cat_14.wav\n",
      "../AudioData/audio-cats-and-dogs/cats_dogs/train/cat/cat_147.wav\n",
      "../AudioData/audio-cats-and-dogs/cats_dogs/train/cat/cat_133.wav\n",
      "../AudioData/audio-cats-and-dogs/cats_dogs/train/cat/cat_158.wav\n",
      "../AudioData/audio-cats-and-dogs/cats_dogs/train/cat/cat_127.wav\n",
      "../AudioData/audio-cats-and-dogs/cats_dogs/train/cat/cat_140.wav\n",
      "../AudioData/audio-cats-and-dogs/cats_dogs/train/cat/cat_159.wav\n",
      "../AudioData/audio-cats-and-dogs/cats_dogs/train/cat/cat_154.wav\n",
      "../AudioData/audio-cats-and-dogs/cats_dogs/train/cat/cat_157.wav\n",
      "../AudioData/audio-cats-and-dogs/cats_dogs/train/cat/cat_28.wav\n",
      "../AudioData/audio-cats-and-dogs/cats_dogs/train/cat/cat_143.wav\n",
      "../AudioData/audio-cats-and-dogs/cats_dogs/train/cat/cat_153.wav\n",
      "../AudioData/audio-cats-and-dogs/cats_dogs/train/cat/cat_35.wav\n",
      "../AudioData/audio-cats-and-dogs/cats_dogs/train/cat/cat_36.wav\n",
      "../AudioData/audio-cats-and-dogs/cats_dogs/train/cat/cat_165.wav\n",
      "../AudioData/audio-cats-and-dogs/cats_dogs/train/cat/cat_142.wav\n",
      "../AudioData/audio-cats-and-dogs/cats_dogs/train/cat/cat_152.wav\n",
      "../AudioData/audio-cats-and-dogs/cats_dogs/train/cat/cat_156.wav\n",
      "../AudioData/audio-cats-and-dogs/cats_dogs/train/cat/cat_167.wav\n",
      "../AudioData/audio-cats-and-dogs/cats_dogs/train/cat/cat_15.wav\n",
      "../AudioData/audio-cats-and-dogs/cats_dogs/train/cat/cat_164.wav\n",
      "../AudioData/audio-cats-and-dogs/cats_dogs/train/cat/cat_162.wav\n",
      "../AudioData/audio-cats-and-dogs/cats_dogs/train/cat/cat_23.wav\n",
      "../AudioData/audio-cats-and-dogs/cats_dogs/train/cat/cat_39.wav\n",
      "../AudioData/audio-cats-and-dogs/cats_dogs/train/cat/cat_33.wav\n",
      "../AudioData/audio-cats-and-dogs/cats_dogs/train/cat/cat_34.wav\n",
      "../AudioData/audio-cats-and-dogs/cats_dogs/train/cat/cat_32.wav\n",
      "../AudioData/audio-cats-and-dogs/cats_dogs/train/cat/cat_37.wav\n",
      "../AudioData/audio-cats-and-dogs/cats_dogs/train/cat/cat_27.wav\n",
      "../AudioData/audio-cats-and-dogs/cats_dogs/train/cat/cat_163.wav\n",
      "../AudioData/audio-cats-and-dogs/cats_dogs/train/cat/cat_3.wav\n",
      "../AudioData/audio-cats-and-dogs/cats_dogs/train/cat/cat_82.wav\n",
      "../AudioData/audio-cats-and-dogs/cats_dogs/train/cat/cat_161.wav\n",
      "../AudioData/audio-cats-and-dogs/cats_dogs/train/cat/cat_18.wav\n",
      "../AudioData/audio-cats-and-dogs/cats_dogs/train/cat/cat_30.wav\n",
      "../AudioData/audio-cats-and-dogs/cats_dogs/train/cat/cat_40.wav\n",
      "../AudioData/audio-cats-and-dogs/cats_dogs/train/cat/cat_31.wav\n",
      "../AudioData/audio-cats-and-dogs/cats_dogs/train/cat/cat_41.wav\n",
      "../AudioData/audio-cats-and-dogs/cats_dogs/train/cat/cat_107.wav\n",
      "../AudioData/audio-cats-and-dogs/cats_dogs/train/cat/cat_148.wav\n",
      "../AudioData/audio-cats-and-dogs/cats_dogs/train/cat/cat_95.wav\n",
      "../AudioData/audio-cats-and-dogs/cats_dogs/train/cat/cat_69.wav\n",
      "../AudioData/audio-cats-and-dogs/cats_dogs/train/cat/cat_54.wav\n",
      "../AudioData/audio-cats-and-dogs/cats_dogs/train/cat/cat_113.wav\n",
      "../AudioData/audio-cats-and-dogs/cats_dogs/train/cat/cat_42.wav\n",
      "../AudioData/audio-cats-and-dogs/cats_dogs/train/cat/cat_25.wav\n",
      "../AudioData/audio-cats-and-dogs/cats_dogs/train/cat/cat_26.wav\n",
      "../AudioData/audio-cats-and-dogs/cats_dogs/train/cat/cat_97.wav\n",
      "../AudioData/audio-cats-and-dogs/cats_dogs/train/cat/cat_57.wav\n",
      "../AudioData/audio-cats-and-dogs/cats_dogs/train/cat/cat_110.wav\n",
      "../AudioData/audio-cats-and-dogs/cats_dogs/train/cat/cat_139.wav\n",
      "../AudioData/audio-cats-and-dogs/cats_dogs/train/cat/cat_105.wav\n",
      "../AudioData/audio-cats-and-dogs/cats_dogs/train/cat/cat_56.wav\n",
      "../AudioData/audio-cats-and-dogs/cats_dogs/train/cat/cat_19.wav\n",
      "../AudioData/audio-cats-and-dogs/cats_dogs/train/cat/cat_81.wav\n",
      "../AudioData/audio-cats-and-dogs/cats_dogs/train/cat/cat_129.wav\n",
      "../AudioData/audio-cats-and-dogs/cats_dogs/train/cat/cat_68.wav\n",
      "../AudioData/audio-cats-and-dogs/cats_dogs/train/cat/cat_96.wav\n",
      "../AudioData/audio-cats-and-dogs/cats_dogs/train/cat/cat_43.wav\n",
      "../AudioData/audio-cats-and-dogs/cats_dogs/train/cat/cat_128.wav\n",
      "../AudioData/audio-cats-and-dogs/cats_dogs/train/cat/cat_115.wav\n",
      "../AudioData/audio-cats-and-dogs/cats_dogs/train/cat/cat_80.wav\n",
      "../AudioData/audio-cats-and-dogs/cats_dogs/train/cat/cat_78.wav\n",
      "../AudioData/audio-cats-and-dogs/cats_dogs/train/cat/cat_86.wav\n",
      "../AudioData/audio-cats-and-dogs/cats_dogs/train/cat/cat_91.wav\n",
      "../AudioData/audio-cats-and-dogs/cats_dogs/train/cat/cat_1.wav\n",
      "../AudioData/audio-cats-and-dogs/cats_dogs/train/cat/cat_92.wav\n",
      "../AudioData/audio-cats-and-dogs/cats_dogs/train/cat/cat_85.wav\n",
      "../AudioData/audio-cats-and-dogs/cats_dogs/train/cat/cat_51.wav\n",
      "../AudioData/audio-cats-and-dogs/cats_dogs/train/cat/cat_4.wav\n",
      "../AudioData/audio-cats-and-dogs/cats_dogs/train/cat/cat_101.wav\n",
      "../AudioData/audio-cats-and-dogs/cats_dogs/train/cat/cat_6.wav\n",
      "../AudioData/audio-cats-and-dogs/cats_dogs/train/cat/cat_44.wav\n",
      "../AudioData/audio-cats-and-dogs/cats_dogs/train/cat/cat_84.wav\n",
      "../AudioData/audio-cats-and-dogs/cats_dogs/train/cat/cat_79.wav\n",
      "../AudioData/audio-cats-and-dogs/cats_dogs/train/cat/cat_100.wav\n",
      "../AudioData/audio-cats-and-dogs/cats_dogs/train/cat/cat_114.wav\n",
      "../AudioData/audio-cats-and-dogs/cats_dogs/train/cat/cat_90.wav\n",
      "../AudioData/audio-cats-and-dogs/cats_dogs/train/cat/cat_93.wav\n",
      "../AudioData/audio-cats-and-dogs/cats_dogs/train/cat/cat_87.wav\n",
      "../AudioData/audio-cats-and-dogs/cats_dogs/train/cat/cat_7.wav\n",
      "../AudioData/audio-cats-and-dogs/cats_dogs/train/cat/cat_102.wav\n",
      "Finished this pool. Now next Folder!\n",
      "../AudioData/audio-cats-and-dogs/cats_dogs/train/dog/dog_barking_88.wav\n",
      "../AudioData/audio-cats-and-dogs/cats_dogs/train/dog/dog_barking_62.wav\n",
      "../AudioData/audio-cats-and-dogs/cats_dogs/train/dog/dog_barking_58.wav\n",
      "../AudioData/audio-cats-and-dogs/cats_dogs/train/dog/dog_barking_75.wav\n",
      "../AudioData/audio-cats-and-dogs/cats_dogs/train/dog/dog_barking_99.wav\n",
      "../AudioData/audio-cats-and-dogs/cats_dogs/train/dog/dog_barking_14.wav\n"
     ]
    },
    {
     "name": "stderr",
     "output_type": "stream",
     "text": [
      "/Users/dg/anaconda3/envs/INFO6010/lib/python3.7/site-packages/librosa/filters.py:284: UserWarning: Empty filters detected in mel frequency basis. Some channels will produce empty responses. Try increasing your sampling rate (and fmax) or reducing n_mels.\n",
      "  warnings.warn('Empty filters detected in mel frequency basis. '\n"
     ]
    },
    {
     "name": "stdout",
     "output_type": "stream",
     "text": [
      "../AudioData/audio-cats-and-dogs/cats_dogs/train/dog/dog_barking_89.wav\n"
     ]
    },
    {
     "name": "stderr",
     "output_type": "stream",
     "text": [
      "/Users/dg/anaconda3/envs/INFO6010/lib/python3.7/site-packages/librosa/filters.py:284: UserWarning: Empty filters detected in mel frequency basis. Some channels will produce empty responses. Try increasing your sampling rate (and fmax) or reducing n_mels.\n",
      "  warnings.warn('Empty filters detected in mel frequency basis. '\n"
     ]
    },
    {
     "name": "stdout",
     "output_type": "stream",
     "text": [
      "../AudioData/audio-cats-and-dogs/cats_dogs/train/dog/dog_barking_59.wav\n"
     ]
    },
    {
     "name": "stderr",
     "output_type": "stream",
     "text": [
      "/Users/dg/anaconda3/envs/INFO6010/lib/python3.7/site-packages/librosa/filters.py:284: UserWarning: Empty filters detected in mel frequency basis. Some channels will produce empty responses. Try increasing your sampling rate (and fmax) or reducing n_mels.\n",
      "  warnings.warn('Empty filters detected in mel frequency basis. '\n"
     ]
    },
    {
     "name": "stdout",
     "output_type": "stream",
     "text": [
      "../AudioData/audio-cats-and-dogs/cats_dogs/train/dog/dog_barking_76.wav\n"
     ]
    },
    {
     "name": "stderr",
     "output_type": "stream",
     "text": [
      "/Users/dg/anaconda3/envs/INFO6010/lib/python3.7/site-packages/librosa/filters.py:284: UserWarning: Empty filters detected in mel frequency basis. Some channels will produce empty responses. Try increasing your sampling rate (and fmax) or reducing n_mels.\n",
      "  warnings.warn('Empty filters detected in mel frequency basis. '\n"
     ]
    },
    {
     "name": "stdout",
     "output_type": "stream",
     "text": [
      "../AudioData/audio-cats-and-dogs/cats_dogs/train/dog/dog_barking_66.wav\n",
      "../AudioData/audio-cats-and-dogs/cats_dogs/train/dog/dog_barking_74.wav\n"
     ]
    },
    {
     "name": "stderr",
     "output_type": "stream",
     "text": [
      "/Users/dg/anaconda3/envs/INFO6010/lib/python3.7/site-packages/librosa/filters.py:284: UserWarning: Empty filters detected in mel frequency basis. Some channels will produce empty responses. Try increasing your sampling rate (and fmax) or reducing n_mels.\n",
      "  warnings.warn('Empty filters detected in mel frequency basis. '\n"
     ]
    },
    {
     "name": "stdout",
     "output_type": "stream",
     "text": [
      "../AudioData/audio-cats-and-dogs/cats_dogs/train/dog/dog_barking_17.wav\n",
      "../AudioData/audio-cats-and-dogs/cats_dogs/train/dog/dog_barking_9.wav\n",
      "../AudioData/audio-cats-and-dogs/cats_dogs/train/dog/dog_barking_49.wav\n",
      "../AudioData/audio-cats-and-dogs/cats_dogs/train/dog/dog_barking_108.wav\n",
      "../AudioData/audio-cats-and-dogs/cats_dogs/train/dog/dog_barking_72.wav\n",
      "../AudioData/audio-cats-and-dogs/cats_dogs/train/dog/dog_barking_29.wav\n",
      "../AudioData/audio-cats-and-dogs/cats_dogs/train/dog/dog_barking_16.wav\n",
      "../AudioData/audio-cats-and-dogs/cats_dogs/train/dog/dog_barking_13.wav\n"
     ]
    },
    {
     "name": "stderr",
     "output_type": "stream",
     "text": [
      "/Users/dg/anaconda3/envs/INFO6010/lib/python3.7/site-packages/librosa/filters.py:284: UserWarning: Empty filters detected in mel frequency basis. Some channels will produce empty responses. Try increasing your sampling rate (and fmax) or reducing n_mels.\n",
      "  warnings.warn('Empty filters detected in mel frequency basis. '\n"
     ]
    },
    {
     "name": "stdout",
     "output_type": "stream",
     "text": [
      "../AudioData/audio-cats-and-dogs/cats_dogs/train/dog/dog_barking_22.wav\n",
      "../AudioData/audio-cats-and-dogs/cats_dogs/train/dog/dog_barking_98.wav\n",
      "../AudioData/audio-cats-and-dogs/cats_dogs/train/dog/dog_barking_2.wav\n",
      "../AudioData/audio-cats-and-dogs/cats_dogs/train/dog/dog_barking_12.wav\n",
      "../AudioData/audio-cats-and-dogs/cats_dogs/train/dog/dog_barking_37.wav\n",
      "../AudioData/audio-cats-and-dogs/cats_dogs/train/dog/dog_barking_20.wav\n",
      "../AudioData/audio-cats-and-dogs/cats_dogs/train/dog/dog_barking_7.wav\n",
      "../AudioData/audio-cats-and-dogs/cats_dogs/train/dog/dog_barking_30.wav\n",
      "../AudioData/audio-cats-and-dogs/cats_dogs/train/dog/dog_barking_67.wav\n",
      "../AudioData/audio-cats-and-dogs/cats_dogs/train/dog/dog_barking_25.wav\n",
      "../AudioData/audio-cats-and-dogs/cats_dogs/train/dog/dog_barking_33.wav\n",
      "../AudioData/audio-cats-and-dogs/cats_dogs/train/dog/dog_barking_6.wav\n",
      "../AudioData/audio-cats-and-dogs/cats_dogs/train/dog/dog_barking_4.wav\n",
      "../AudioData/audio-cats-and-dogs/cats_dogs/train/dog/dog_barking_36.wav\n",
      "../AudioData/audio-cats-and-dogs/cats_dogs/train/dog/dog_barking_27.wav\n",
      "../AudioData/audio-cats-and-dogs/cats_dogs/train/dog/dog_barking_23.wav\n",
      "../AudioData/audio-cats-and-dogs/cats_dogs/train/dog/dog_barking_81.wav\n",
      "../AudioData/audio-cats-and-dogs/cats_dogs/train/dog/dog_barking_24.wav\n",
      "../AudioData/audio-cats-and-dogs/cats_dogs/train/dog/dog_barking_31.wav\n",
      "../AudioData/audio-cats-and-dogs/cats_dogs/train/dog/dog_barking_95.wav\n",
      "../AudioData/audio-cats-and-dogs/cats_dogs/train/dog/dog_barking_80.wav\n",
      "../AudioData/audio-cats-and-dogs/cats_dogs/train/dog/dog_barking_110.wav\n",
      "../AudioData/audio-cats-and-dogs/cats_dogs/train/dog/dog_barking_107.wav\n",
      "../AudioData/audio-cats-and-dogs/cats_dogs/train/dog/dog_barking_55.wav\n",
      "../AudioData/audio-cats-and-dogs/cats_dogs/train/dog/dog_barking_83.wav\n",
      "../AudioData/audio-cats-and-dogs/cats_dogs/train/dog/dog_barking_19.wav\n",
      "../AudioData/audio-cats-and-dogs/cats_dogs/train/dog/dog_barking_50.wav\n",
      "../AudioData/audio-cats-and-dogs/cats_dogs/train/dog/dog_barking_41.wav\n",
      "../AudioData/audio-cats-and-dogs/cats_dogs/train/dog/dog_barking_68.wav\n",
      "../AudioData/audio-cats-and-dogs/cats_dogs/train/dog/dog_barking_87.wav\n",
      "../AudioData/audio-cats-and-dogs/cats_dogs/train/dog/dog_barking_105.wav\n",
      "../AudioData/audio-cats-and-dogs/cats_dogs/train/dog/dog_barking_56.wav\n",
      "../AudioData/audio-cats-and-dogs/cats_dogs/train/dog/dog_barking_86.wav\n",
      "../AudioData/audio-cats-and-dogs/cats_dogs/train/dog/dog_barking_101.wav\n",
      "../AudioData/audio-cats-and-dogs/cats_dogs/train/dog/dog_barking_111.wav\n",
      "../AudioData/audio-cats-and-dogs/cats_dogs/train/dog/dog_barking_45.wav\n",
      "../AudioData/audio-cats-and-dogs/cats_dogs/train/dog/dog_barking_53.wav\n",
      "../AudioData/audio-cats-and-dogs/cats_dogs/train/dog/dog_barking_54.wav\n",
      "../AudioData/audio-cats-and-dogs/cats_dogs/train/dog/dog_barking_102.wav\n",
      "../AudioData/audio-cats-and-dogs/cats_dogs/train/dog/dog_barking_46.wav\n",
      "../AudioData/audio-cats-and-dogs/cats_dogs/train/dog/dog_barking_91.wav\n",
      "../AudioData/audio-cats-and-dogs/cats_dogs/train/dog/dog_barking_79.wav\n",
      "../AudioData/audio-cats-and-dogs/cats_dogs/train/dog/dog_barking_84.wav\n",
      "../AudioData/audio-cats-and-dogs/cats_dogs/train/dog/dog_barking_90.wav\n",
      "../AudioData/audio-cats-and-dogs/cats_dogs/train/dog/dog_barking_85.wav\n",
      "Finished this pool. Now next Folder!\n",
      "Done generating Spectra!\n",
      "../AudioData/audio-cats-and-dogs/cats_dogs/test/cat/cat_74.wav\n",
      "../AudioData/audio-cats-and-dogs/cats_dogs/test/cat/cat_125.wav\n",
      "../AudioData/audio-cats-and-dogs/cats_dogs/test/cat/cat_9.wav\n",
      "../AudioData/audio-cats-and-dogs/cats_dogs/test/cat/cat_66.wav\n",
      "../AudioData/audio-cats-and-dogs/cats_dogs/test/cat/cat_59.wav\n",
      "../AudioData/audio-cats-and-dogs/cats_dogs/test/cat/cat_70.wav\n"
     ]
    },
    {
     "name": "stderr",
     "output_type": "stream",
     "text": [
      "/Users/dg/anaconda3/envs/INFO6010/lib/python3.7/site-packages/librosa/filters.py:284: UserWarning: Empty filters detected in mel frequency basis. Some channels will produce empty responses. Try increasing your sampling rate (and fmax) or reducing n_mels.\n",
      "  warnings.warn('Empty filters detected in mel frequency basis. '\n"
     ]
    },
    {
     "name": "stdout",
     "output_type": "stream",
     "text": [
      "../AudioData/audio-cats-and-dogs/cats_dogs/test/cat/cat_63.wav\n"
     ]
    },
    {
     "name": "stderr",
     "output_type": "stream",
     "text": [
      "/Users/dg/anaconda3/envs/INFO6010/lib/python3.7/site-packages/librosa/filters.py:284: UserWarning: Empty filters detected in mel frequency basis. Some channels will produce empty responses. Try increasing your sampling rate (and fmax) or reducing n_mels.\n",
      "  warnings.warn('Empty filters detected in mel frequency basis. '\n"
     ]
    },
    {
     "name": "stdout",
     "output_type": "stream",
     "text": [
      "../AudioData/audio-cats-and-dogs/cats_dogs/test/cat/cat_58.wav\n"
     ]
    },
    {
     "name": "stderr",
     "output_type": "stream",
     "text": [
      "/Users/dg/anaconda3/envs/INFO6010/lib/python3.7/site-packages/librosa/filters.py:284: UserWarning: Empty filters detected in mel frequency basis. Some channels will produce empty responses. Try increasing your sampling rate (and fmax) or reducing n_mels.\n",
      "  warnings.warn('Empty filters detected in mel frequency basis. '\n"
     ]
    },
    {
     "name": "stdout",
     "output_type": "stream",
     "text": [
      "../AudioData/audio-cats-and-dogs/cats_dogs/test/cat/cat_120.wav\n",
      "../AudioData/audio-cats-and-dogs/cats_dogs/test/cat/cat_67.wav\n"
     ]
    },
    {
     "name": "stderr",
     "output_type": "stream",
     "text": [
      "/Users/dg/anaconda3/envs/INFO6010/lib/python3.7/site-packages/librosa/filters.py:284: UserWarning: Empty filters detected in mel frequency basis. Some channels will produce empty responses. Try increasing your sampling rate (and fmax) or reducing n_mels.\n",
      "  warnings.warn('Empty filters detected in mel frequency basis. '\n"
     ]
    },
    {
     "name": "stdout",
     "output_type": "stream",
     "text": [
      "../AudioData/audio-cats-and-dogs/cats_dogs/test/cat/cat_144.wav\n",
      "../AudioData/audio-cats-and-dogs/cats_dogs/test/cat/cat_60.wav\n"
     ]
    },
    {
     "name": "stderr",
     "output_type": "stream",
     "text": [
      "/Users/dg/anaconda3/envs/INFO6010/lib/python3.7/site-packages/librosa/filters.py:284: UserWarning: Empty filters detected in mel frequency basis. Some channels will produce empty responses. Try increasing your sampling rate (and fmax) or reducing n_mels.\n",
      "  warnings.warn('Empty filters detected in mel frequency basis. '\n"
     ]
    },
    {
     "name": "stdout",
     "output_type": "stream",
     "text": [
      "../AudioData/audio-cats-and-dogs/cats_dogs/test/cat/cat_89.wav\n",
      "../AudioData/audio-cats-and-dogs/cats_dogs/test/cat/cat_29.wav\n"
     ]
    },
    {
     "name": "stderr",
     "output_type": "stream",
     "text": [
      "/Users/dg/anaconda3/envs/INFO6010/lib/python3.7/site-packages/librosa/filters.py:284: UserWarning: Empty filters detected in mel frequency basis. Some channels will produce empty responses. Try increasing your sampling rate (and fmax) or reducing n_mels.\n",
      "  warnings.warn('Empty filters detected in mel frequency basis. '\n"
     ]
    },
    {
     "name": "stdout",
     "output_type": "stream",
     "text": [
      "../AudioData/audio-cats-and-dogs/cats_dogs/test/cat/cat_65.wav\n",
      "../AudioData/audio-cats-and-dogs/cats_dogs/test/cat/cat_77.wav\n",
      "../AudioData/audio-cats-and-dogs/cats_dogs/test/cat/cat_150.wav\n",
      "../AudioData/audio-cats-and-dogs/cats_dogs/test/cat/cat_12.wav\n",
      "../AudioData/audio-cats-and-dogs/cats_dogs/test/cat/cat_13.wav\n",
      "../AudioData/audio-cats-and-dogs/cats_dogs/test/cat/cat_8.wav\n",
      "../AudioData/audio-cats-and-dogs/cats_dogs/test/cat/cat_49.wav\n",
      "../AudioData/audio-cats-and-dogs/cats_dogs/test/cat/cat_166.wav\n",
      "../AudioData/audio-cats-and-dogs/cats_dogs/test/cat/cat_136.wav\n",
      "../AudioData/audio-cats-and-dogs/cats_dogs/test/cat/cat_38.wav\n",
      "../AudioData/audio-cats-and-dogs/cats_dogs/test/cat/cat_155.wav\n",
      "../AudioData/audio-cats-and-dogs/cats_dogs/test/cat/cat_22.wav\n",
      "../AudioData/audio-cats-and-dogs/cats_dogs/test/cat/cat_149.wav\n",
      "../AudioData/audio-cats-and-dogs/cats_dogs/test/cat/cat_141.wav\n",
      "../AudioData/audio-cats-and-dogs/cats_dogs/test/cat/cat_112.wav\n",
      "../AudioData/audio-cats-and-dogs/cats_dogs/test/cat/cat_2.wav\n",
      "../AudioData/audio-cats-and-dogs/cats_dogs/test/cat/cat_5.wav\n",
      "../AudioData/audio-cats-and-dogs/cats_dogs/test/cat/cat_160.wav\n",
      "../AudioData/audio-cats-and-dogs/cats_dogs/test/cat/cat_20.wav\n",
      "../AudioData/audio-cats-and-dogs/cats_dogs/test/cat/cat_24.wav\n",
      "../AudioData/audio-cats-and-dogs/cats_dogs/test/cat/cat_52.wav\n",
      "../AudioData/audio-cats-and-dogs/cats_dogs/test/cat/cat_21.wav\n",
      "../AudioData/audio-cats-and-dogs/cats_dogs/test/cat/cat_46.wav\n",
      "../AudioData/audio-cats-and-dogs/cats_dogs/test/cat/cat_138.wav\n",
      "../AudioData/audio-cats-and-dogs/cats_dogs/test/cat/cat_94.wav\n",
      "../AudioData/audio-cats-and-dogs/cats_dogs/test/cat/cat_47.wav\n",
      "../AudioData/audio-cats-and-dogs/cats_dogs/test/cat/cat_55.wav\n",
      "../AudioData/audio-cats-and-dogs/cats_dogs/test/cat/cat_116.wav\n",
      "../AudioData/audio-cats-and-dogs/cats_dogs/test/cat/cat_106.wav\n",
      "../AudioData/audio-cats-and-dogs/cats_dogs/test/cat/cat_45.wav\n",
      "../AudioData/audio-cats-and-dogs/cats_dogs/test/cat/cat_50.wav\n",
      "../AudioData/audio-cats-and-dogs/cats_dogs/test/cat/cat_53.wav\n",
      "../AudioData/audio-cats-and-dogs/cats_dogs/test/cat/cat_117.wav\n",
      "../AudioData/audio-cats-and-dogs/cats_dogs/test/cat/cat_83.wav\n",
      "../AudioData/audio-cats-and-dogs/cats_dogs/test/cat/cat_103.wav\n",
      "Finished this pool. Now next Folder!\n",
      "../AudioData/audio-cats-and-dogs/cats_dogs/test/dog/dog_barking_48.wav\n",
      "../AudioData/audio-cats-and-dogs/cats_dogs/test/dog/dog_barking_63.wav\n",
      "../AudioData/audio-cats-and-dogs/cats_dogs/test/dog/dog_barking_65.wav\n",
      "../AudioData/audio-cats-and-dogs/cats_dogs/test/dog/dog_barking_70.wav\n",
      "../AudioData/audio-cats-and-dogs/cats_dogs/test/dog/dog_barking_8.wav\n",
      "../AudioData/audio-cats-and-dogs/cats_dogs/test/dog/dog_barking_11.wav\n"
     ]
    },
    {
     "name": "stderr",
     "output_type": "stream",
     "text": [
      "/Users/dg/anaconda3/envs/INFO6010/lib/python3.7/site-packages/librosa/filters.py:284: UserWarning: Empty filters detected in mel frequency basis. Some channels will produce empty responses. Try increasing your sampling rate (and fmax) or reducing n_mels.\n",
      "  warnings.warn('Empty filters detected in mel frequency basis. '\n"
     ]
    },
    {
     "name": "stdout",
     "output_type": "stream",
     "text": [
      "../AudioData/audio-cats-and-dogs/cats_dogs/test/dog/dog_barking_15.wav\n"
     ]
    },
    {
     "name": "stderr",
     "output_type": "stream",
     "text": [
      "/Users/dg/anaconda3/envs/INFO6010/lib/python3.7/site-packages/librosa/filters.py:284: UserWarning: Empty filters detected in mel frequency basis. Some channels will produce empty responses. Try increasing your sampling rate (and fmax) or reducing n_mels.\n",
      "  warnings.warn('Empty filters detected in mel frequency basis. '\n",
      "/Users/dg/anaconda3/envs/INFO6010/lib/python3.7/site-packages/librosa/filters.py:284: UserWarning: Empty filters detected in mel frequency basis. Some channels will produce empty responses. Try increasing your sampling rate (and fmax) or reducing n_mels.\n",
      "  warnings.warn('Empty filters detected in mel frequency basis. '\n",
      "/Users/dg/anaconda3/envs/INFO6010/lib/python3.7/site-packages/librosa/filters.py:284: UserWarning: Empty filters detected in mel frequency basis. Some channels will produce empty responses. Try increasing your sampling rate (and fmax) or reducing n_mels.\n",
      "  warnings.warn('Empty filters detected in mel frequency basis. '\n",
      "/Users/dg/anaconda3/envs/INFO6010/lib/python3.7/site-packages/librosa/filters.py:284: UserWarning: Empty filters detected in mel frequency basis. Some channels will produce empty responses. Try increasing your sampling rate (and fmax) or reducing n_mels.\n",
      "  warnings.warn('Empty filters detected in mel frequency basis. '\n"
     ]
    },
    {
     "name": "stdout",
     "output_type": "stream",
     "text": [
      "../AudioData/audio-cats-and-dogs/cats_dogs/test/dog/dog_barking_109.wav\n",
      "../AudioData/audio-cats-and-dogs/cats_dogs/test/dog/dog_barking_77.wav\n",
      "../AudioData/audio-cats-and-dogs/cats_dogs/test/dog/dog_barking_73.wav\n",
      "../AudioData/audio-cats-and-dogs/cats_dogs/test/dog/dog_barking_61.wav\n",
      "../AudioData/audio-cats-and-dogs/cats_dogs/test/dog/dog_barking_39.wav\n",
      "../AudioData/audio-cats-and-dogs/cats_dogs/test/dog/dog_barking_28.wav\n",
      "../AudioData/audio-cats-and-dogs/cats_dogs/test/dog/dog_barking_60.wav\n",
      "../AudioData/audio-cats-and-dogs/cats_dogs/test/dog/dog_barking_71.wav\n",
      "../AudioData/audio-cats-and-dogs/cats_dogs/test/dog/dog_barking_21.wav\n"
     ]
    },
    {
     "name": "stderr",
     "output_type": "stream",
     "text": [
      "/Users/dg/anaconda3/envs/INFO6010/lib/python3.7/site-packages/librosa/filters.py:284: UserWarning: Empty filters detected in mel frequency basis. Some channels will produce empty responses. Try increasing your sampling rate (and fmax) or reducing n_mels.\n",
      "  warnings.warn('Empty filters detected in mel frequency basis. '\n"
     ]
    },
    {
     "name": "stdout",
     "output_type": "stream",
     "text": [
      "../AudioData/audio-cats-and-dogs/cats_dogs/test/dog/dog_barking_0.wav\n",
      "../AudioData/audio-cats-and-dogs/cats_dogs/test/dog/dog_barking_10.wav\n",
      "../AudioData/audio-cats-and-dogs/cats_dogs/test/dog/dog_barking_64.wav\n",
      "../AudioData/audio-cats-and-dogs/cats_dogs/test/dog/dog_barking_38.wav\n",
      "../AudioData/audio-cats-and-dogs/cats_dogs/test/dog/dog_barking_26.wav\n",
      "../AudioData/audio-cats-and-dogs/cats_dogs/test/dog/dog_barking_5.wav\n",
      "../AudioData/audio-cats-and-dogs/cats_dogs/test/dog/dog_barking_106.wav\n",
      "../AudioData/audio-cats-and-dogs/cats_dogs/test/dog/dog_barking_35.wav\n",
      "../AudioData/audio-cats-and-dogs/cats_dogs/test/dog/dog_barking_1.wav\n",
      "../AudioData/audio-cats-and-dogs/cats_dogs/test/dog/dog_barking_43.wav\n",
      "../AudioData/audio-cats-and-dogs/cats_dogs/test/dog/dog_barking_32.wav\n",
      "../AudioData/audio-cats-and-dogs/cats_dogs/test/dog/dog_barking_94.wav\n",
      "../AudioData/audio-cats-and-dogs/cats_dogs/test/dog/dog_barking_18.wav\n",
      "../AudioData/audio-cats-and-dogs/cats_dogs/test/dog/dog_barking_69.wav\n",
      "../AudioData/audio-cats-and-dogs/cats_dogs/test/dog/dog_barking_42.wav\n",
      "../AudioData/audio-cats-and-dogs/cats_dogs/test/dog/dog_barking_34.wav\n",
      "../AudioData/audio-cats-and-dogs/cats_dogs/test/dog/dog_barking_112.wav\n",
      "../AudioData/audio-cats-and-dogs/cats_dogs/test/dog/dog_barking_96.wav\n",
      "../AudioData/audio-cats-and-dogs/cats_dogs/test/dog/dog_barking_57.wav\n",
      "../AudioData/audio-cats-and-dogs/cats_dogs/test/dog/dog_barking_3.wav\n",
      "../AudioData/audio-cats-and-dogs/cats_dogs/test/dog/dog_barking_82.wav\n",
      "../AudioData/audio-cats-and-dogs/cats_dogs/test/dog/dog_barking_40.wav\n",
      "../AudioData/audio-cats-and-dogs/cats_dogs/test/dog/dog_barking_93.wav\n",
      "../AudioData/audio-cats-and-dogs/cats_dogs/test/dog/dog_barking_51.wav\n",
      "../AudioData/audio-cats-and-dogs/cats_dogs/test/dog/dog_barking_78.wav\n",
      "../AudioData/audio-cats-and-dogs/cats_dogs/test/dog/dog_barking_104.wav\n",
      "../AudioData/audio-cats-and-dogs/cats_dogs/test/dog/dog_barking_47.wav\n",
      "../AudioData/audio-cats-and-dogs/cats_dogs/test/dog/dog_barking_52.wav\n",
      "../AudioData/audio-cats-and-dogs/cats_dogs/test/dog/dog_barking_44.wav\n",
      "../AudioData/audio-cats-and-dogs/cats_dogs/test/dog/dog_barking_103.wav\n",
      "../AudioData/audio-cats-and-dogs/cats_dogs/test/dog/dog_barking_100.wav\n",
      "../AudioData/audio-cats-and-dogs/cats_dogs/test/dog/dog_barking_92.wav\n",
      "../AudioData/audio-cats-and-dogs/cats_dogs/test/dog/dog_barking_97.wav\n",
      "Finished this pool. Now next Folder!\n",
      "Done generating Spectra!\n"
     ]
    }
   ],
   "source": [
    "ComputeSpectrograms(SOURCE_FOLDER_TRAIN,OUTPUT_FOLDER_TRAIN)\n",
    "ComputeSpectrograms(SOURCE_FOLDER_TEST,OUTPUT_FOLDER_TEST)"
   ]
  },
  {
   "cell_type": "code",
   "execution_count": null,
   "metadata": {},
   "outputs": [],
   "source": []
  }
 ],
 "metadata": {
  "kernelspec": {
   "display_name": "Python (INFO6010)",
   "language": "python",
   "name": "info6010"
  },
  "language_info": {
   "codemirror_mode": {
    "name": "ipython",
    "version": 3
   },
   "file_extension": ".py",
   "mimetype": "text/x-python",
   "name": "python",
   "nbconvert_exporter": "python",
   "pygments_lexer": "ipython3",
   "version": "3.7.3"
  }
 },
 "nbformat": 4,
 "nbformat_minor": 2
}
