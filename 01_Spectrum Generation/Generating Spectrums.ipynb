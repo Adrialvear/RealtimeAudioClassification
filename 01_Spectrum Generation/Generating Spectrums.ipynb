{
 "cells": [
  {
   "cell_type": "markdown",
   "metadata": {},
   "source": [
    "The following cell loads in all the libraries that we previously installed; this makes it so that we can access the functions in these libraries instead of having to code these capabilities from scratch."
   ]
  },
  {
   "cell_type": "code",
   "execution_count": 6,
   "metadata": {
    "ExecuteTime": {
     "end_time": "2020-08-02T21:19:53.251418Z",
     "start_time": "2020-08-02T21:19:53.242381Z"
    }
   },
   "outputs": [],
   "source": [
    "Type=\"GENERATE\"\n",
    "from subprocess import Popen\n",
    "exec(open(\"../helperFunctions.py\",\"rb\").read())"
   ]
  },
  {
   "cell_type": "markdown",
   "metadata": {},
   "source": [
    "The next cell defines the folder paths to both the source folder where the audio is stored and the folder where the generated images should go."
   ]
  },
  {
   "cell_type": "code",
   "execution_count": 7,
   "metadata": {
    "ExecuteTime": {
     "end_time": "2020-08-02T21:19:53.757150Z",
     "start_time": "2020-08-02T21:19:53.753182Z"
    }
   },
   "outputs": [],
   "source": [
    "SOURCE_DATA_ROOT='../AudioData/'\n",
    "GENERATED_DATA_ROOT='../GeneratedData/'"
   ]
  },
  {
   "cell_type": "markdown",
   "metadata": {},
   "source": [
    "In the following section, we create a \"ToDoList\". It conatins a list of audio files and where their spectrums should go. *)% of the data set is used to"
   ]
  },
  {
   "cell_type": "code",
   "execution_count": null,
   "metadata": {
    "ExecuteTime": {
     "start_time": "2020-08-02T21:19:54.739Z"
    }
   },
   "outputs": [
    {
     "name": "stdout",
     "output_type": "stream",
     "text": [
      "7 5\n",
      "5 2\n",
      "Finished this class. Going to the next\n",
      "10 8\n",
      "8 2\n",
      "Finished this class. Going to the next\n",
      "1000 800\n",
      "800 200\n",
      "Finished this class. Going to the next\n",
      "1000 800\n",
      "800 200\n",
      "Finished this class. Going to the next\n",
      "429 343\n",
      "343 86\n",
      "Finished this class. Going to the next\n",
      "1000 800\n",
      "800 200\n",
      "Finished this class. Going to the next\n",
      "374 299\n",
      "299 75\n",
      "Finished this class. Going to the next\n",
      "1000 800\n",
      "800 200\n",
      "Finished this class. Going to the next\n",
      "1000 800\n",
      "800 200\n",
      "Finished this class. Going to the next\n",
      "5 4\n",
      "4 1\n",
      "Finished this class. Going to the next\n",
      "1000 800\n",
      "800 200\n",
      "Finished this class. Going to the next\n",
      "929 743\n",
      "743 186\n",
      "Finished this class. Going to the next\n",
      "1000 800\n",
      "800 200\n",
      "Finished this class. Going to the next\n",
      "Done Creating our ToDoList. I'll start computing now, hold on.\n"
     ]
    }
   ],
   "source": [
    "ToDoList=[]\n",
    "SourceFoldersLabels = [f.path for f in os.scandir(SOURCE_DATA_ROOT) if f.is_dir()]\n",
    "for path in SourceFoldersLabels:\n",
    "    FileList = np.array([f.path for f in os.scandir(path) if f.is_file() and (f.name.endswith(\".aif\") or f.name.endswith(\".flac\") or f.name.endswith(\".wav\") or f.name.endswith(\".m4a\") or f.name.endswith(\".mp3\"))])\n",
    "    Label = os.path.split(path)[-1]\n",
    "    OutFolderTrain = os.path.join(GENERATED_DATA_ROOT,Label,'train')\n",
    "    OutFolderTest = os.path.join(GENERATED_DATA_ROOT,Label,'test')\n",
    "    if not os.path.exists(OutFolderTrain):\n",
    "        os.makedirs(OutFolderTrain)\n",
    "    if not os.path.exists(OutFolderTest):\n",
    "        os.makedirs(OutFolderTest)\n",
    "    np.random.shuffle(FileList)\n",
    "    trainCount =np.int(np.floor(0.8*FileList.shape[0]))\n",
    "    print(FileList.shape[0],trainCount)\n",
    "    train_set = FileList[:trainCount]\n",
    "    test_set = FileList[trainCount:]\n",
    "    print(len(train_set),len(test_set))\n",
    "    for f in train_set:\n",
    "        ToDoList.append((os.path.abspath(f),os.path.abspath(OutFolderTrain)))\n",
    "    for f in test_set:\n",
    "        ToDoList.append((os.path.abspath(f),os.path.abspath(OutFolderTest)))\n",
    "    print(\"Finished this class. Going to the next\")\n",
    "Commands = [[sys.executable, \"../helperFunctions.py\",t[0],t[1]] for t in ToDoList]\n",
    "print(\"Done Creating our ToDoList. I'll start computing now, hold on.\")\n",
    "tempArray=[]\n",
    "for i in range(len(Commands)):\n",
    "    tempArray.append(Commands[i])\n",
    "    if(len(tempArray)>=12):\n",
    "        procs = [Popen(j) for j in tempArray ]\n",
    "        for p in procs:\n",
    "            p.wait()\n",
    "        tempArray=[]\n",
    "\n",
    "procs = [ Popen(j) for j in tempArray ]\n",
    "for p in procs:\n",
    "    p.communicate() \n",
    "print(\"All Done.\")"
   ]
  },
  {
   "cell_type": "markdown",
   "metadata": {},
   "source": [
    "This moves the Spectrum Variables file into the output folder so that we can correspond the images with labels."
   ]
  }
 ],
 "metadata": {
  "kernelspec": {
   "display_name": "Python 3",
   "language": "python",
   "name": "python3"
  },
  "language_info": {
   "codemirror_mode": {
    "name": "ipython",
    "version": 3
   },
   "file_extension": ".py",
   "mimetype": "text/x-python",
   "name": "python",
   "nbconvert_exporter": "python",
   "pygments_lexer": "ipython3",
   "version": "3.6.9"
  },
  "toc": {
   "base_numbering": 1,
   "nav_menu": {},
   "number_sections": true,
   "sideBar": true,
   "skip_h1_title": false,
   "title_cell": "Table of Contents",
   "title_sidebar": "Contents",
   "toc_cell": false,
   "toc_position": {},
   "toc_section_display": true,
   "toc_window_display": false
  }
 },
 "nbformat": 4,
 "nbformat_minor": 2
}
