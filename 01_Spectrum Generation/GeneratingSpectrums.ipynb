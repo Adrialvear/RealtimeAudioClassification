{
 "cells": [
  {
   "cell_type": "markdown",
   "metadata": {},
   "source": [
    "The following cell loads in all the libraries that we previously installed; this makes it so that we can access the functions in these libraries instead of having to code these capabilities from scratch."
   ]
  },
  {
   "cell_type": "code",
   "execution_count": 9,
   "metadata": {},
   "outputs": [],
   "source": [
    "import csv\n",
    "import cv2\n",
    "import numpy as np\n",
    "import librosa\n",
    "import librosa.display\n",
    "import wave\n",
    "import os\n",
    "import matplotlib.pyplot as plt\n",
    "import multiprocessing \n",
    "import pickle"
   ]
  },
  {
   "cell_type": "markdown",
   "metadata": {},
   "source": [
    "The next cell defines the folder paths to both the source folder where the audio is stored and the folder where the generated images should go."
   ]
  },
  {
   "cell_type": "code",
   "execution_count": 10,
   "metadata": {},
   "outputs": [],
   "source": [
    "SOURCE_FOLDER_TRAIN= '../AudioData/Cats-Vs-Dogs/'\n",
    "OUTPUT_FOLDER_TRAIN = '../GeneratedData/Cats-Vs-Dogs/'"
   ]
  },
  {
   "cell_type": "markdown",
   "metadata": {},
   "source": [
    "The following cell defines the filename where the Spectrum Variables should be read from. This will load in a file that tells this script how to compute the spectrogram."
   ]
  },
  {
   "cell_type": "code",
   "execution_count": 11,
   "metadata": {},
   "outputs": [
    {
     "name": "stdout",
     "output_type": "stream",
     "text": [
      "Please type filename without the file ending here => Standard\n"
     ]
    },
    {
     "data": {
      "text/plain": [
       "{'RESOLUTION': 224,\n",
       " 'SAMPLE_RATE': 48000,\n",
       " 'N_FFT': 3000,\n",
       " 'HOP_LENGTH': 512,\n",
       " 'FMIN': 0,\n",
       " 'FMAX': 24000,\n",
       " 'N_MELS': 224,\n",
       " 'POWER': 2.1}"
      ]
     },
     "execution_count": 11,
     "metadata": {},
     "output_type": "execute_result"
    }
   ],
   "source": [
    "#Loading in the Spectrogram variables\n",
    "FileName =input(\"Please type filename without the file ending here => \")\n",
    "SpectrumVariables = pickle.load(open( FileName+'.SpecVar', \"rb\" ) )\n",
    "SpectrumVariables"
   ]
  },
  {
   "cell_type": "markdown",
   "metadata": {},
   "source": [
    "This defines the function that creates logarithmic spectragrams of the audio file designated in the `src_path` into the folder in the `dst_path`."
   ]
  },
  {
   "cell_type": "code",
   "execution_count": 12,
   "metadata": {},
   "outputs": [],
   "source": [
    "def log_mel_spec_tfm(src_path, dst_path):\n",
    "    #print(src_path)\n",
    "    fname=src_path.split('/')[-1];\n",
    "    x=[]\n",
    "    sample_rate=0\n",
    "    try:\n",
    "        channels ,sample_rate_in = librosa.load(src_path,mono=False)\n",
    "    except:\n",
    "        print(fname+\" Could not be computed!\")\n",
    "        return\n",
    "    if(channels.ndim==1):\n",
    "        channels= channels.reshape((1,(len(channels))))\n",
    "    channelcounter=0\n",
    "    for audio_data in channels:\n",
    "        channelcounter+=1\n",
    "        \n",
    "        RESOLUTION=SpectrumVariables[\"RESOLUTION\"] \n",
    "        \n",
    "        N_FFT=SpectrumVariables[\"N_FFT\"]\n",
    "        HOP_LENGTH= SpectrumVariables[\"HOP_LENGTH\"]\n",
    "        FMIN=SpectrumVariables[\"FMIN\"]\n",
    "        FMAX=SpectrumVariables[\"FMAX\"]\n",
    "        N_MELS=SpectrumVariables[\"N_MELS\"]\n",
    "        POWER=SpectrumVariables[\"POWER\"]\n",
    "        #audio_data = librosa.resample(x, sample_rate_in, SAMPLE_RATE)\n",
    "        mel_spec_power = librosa.feature.melspectrogram(np.array(audio_data), sr=sample_rate_in, \n",
    "                                                        n_mels=N_MELS)\n",
    "        mel_spec_db = librosa.power_to_db(mel_spec_power, ref=np.max)\n",
    "        image = mel_spec_db; # convert to float\n",
    "        image -= image.min() # ensure the minimal value is 0.0\n",
    "        image /= image.max() # maximum value in image is now 1.0\n",
    "        image*=256;\n",
    "        img = image.astype(np.uint8)\n",
    "        colorPic = cv2.applyColorMap(img, cv2.COLORMAP_BONE)\n",
    "        #cv2.imshow('dst_rt', colorPic)\n",
    "        #cv2.waitKey(0)\n",
    "        count=0\n",
    "        for i in range(int(np.floor(colorPic.shape[1]/RESOLUTION))):\n",
    "            count+=1\n",
    "            startx=RESOLUTION*i\n",
    "            stopx=RESOLUTION*(i+1)\n",
    "            OutputImage = cv2.resize(colorPic[:,startx:stopx,:],(RESOLUTION,RESOLUTION))\n",
    "            plt.imsave(os.path.join(dst_path,(fname.replace(\".wav\",'-').replace(\".m4a\",'-').replace(\".mp3\",'-') +str(i)+'-ch-'+str(channelcounter)+ '.png')), OutputImage) \n",
    "        if(count==0):\n",
    "            print(src_path)\n",
    "            #print(\"WARNING: => Jumped A file. If you see this often, increas sampleRate or Hop length.\")"
   ]
  },
  {
   "cell_type": "markdown",
   "metadata": {},
   "source": [
    "The following folder is a wrapper function for the previous function, going through all the audio files in `IN_FOLDER`."
   ]
  },
  {
   "cell_type": "code",
   "execution_count": 7,
   "metadata": {},
   "outputs": [],
   "source": [
    "def ComputeSpectrograms(IN_FOLDER,OUT_FOLDER):\n",
    "    print(\"I will print the file path to files that are too short to fit into one full picture.\")\n",
    "    SourceFoldersLabels = [f.path for f in os.scandir(IN_FOLDER) if f.is_dir()]\n",
    "    for path in SourceFoldersLabels:\n",
    "        FileList = [f.path for f in os.scandir(path) if f.is_file() and (f.name.endswith(\".wav\") or f.name.endswith(\".m4a\") or f.name.endswith(\".mp3\"))]\n",
    "        Label = path.split('/')[-1]\n",
    "        outFolder = os.path.join(OUT_FOLDER,Label)\n",
    "        print(FileList)\n",
    "        if not os.path.exists(outFolder):\n",
    "            os.makedirs(outFolder)\n",
    "        #with multiprocessing.Pool(12) as p:\n",
    "            #p.starmap(log_mel_spec_tfm, [(f,outFolder) for f in FileList])\n",
    "        for f in FileList:\n",
    "            log_mel_spec_tfm(f,outFolder)\n",
    "        print(\"Finished this class. Going to the next\")\n",
    "    print(\"Done generating spectra!\")  "
   ]
  },
  {
   "cell_type": "markdown",
   "metadata": {},
   "source": [
    "This moves the Spectrum Variables file into the output folder so that we can correspond the images with labels."
   ]
  },
  {
   "cell_type": "code",
   "execution_count": 8,
   "metadata": {},
   "outputs": [
    {
     "name": "stdout",
     "output_type": "stream",
     "text": [
      "I will print the file path to files that are too short to fit into one full picture.\n",
      "['../AudioData/Cats-Vs-Dogs/Dogs/446370__georra43__dogs-barking.wav', '../AudioData/Cats-Vs-Dogs/Dogs/122104__rickyjezz__dog-barking-at-night-nice-reflection.wav', '../AudioData/Cats-Vs-Dogs/Dogs/347763__apolloaiello__dog-barking.wav', '../AudioData/Cats-Vs-Dogs/Dogs/166421__felix-blume__some-dogs-barking-a-village-in-anatolia-turkey.wav', '../AudioData/Cats-Vs-Dogs/Dogs/327666__juan-merie-venter__dog-bark.wav', '../AudioData/Cats-Vs-Dogs/Dogs/415022__roman-cgr__barking-dog.wav', '../AudioData/Cats-Vs-Dogs/Dogs/163459__littlebigsounds__lbs-fx-dog-small-alert-bark001.wav', '../AudioData/Cats-Vs-Dogs/Dogs/231762__davidmenke__fx-dog-barking.wav', '../AudioData/Cats-Vs-Dogs/Dogs/276267__apolloaiello__mr-dog-01.wav', '../AudioData/Cats-Vs-Dogs/Dogs/175917__conleec__amb-s-dog-park-busy-001.wav', '../AudioData/Cats-Vs-Dogs/Dogs/175916__conleec__amb-s-dog-park-busy-002.wav', '../AudioData/Cats-Vs-Dogs/Dogs/175915__conleec__amb-s-dog-park-busy-003.wav', '../AudioData/Cats-Vs-Dogs/Dogs/442485__bonnyorbit__dogs-barking-in-small-town.wav', '../AudioData/Cats-Vs-Dogs/Dogs/321126__hargissssound__barking-dogs-at-dog-park-south-mountain-reservation-nj.wav', '../AudioData/Cats-Vs-Dogs/Dogs/24965__www-bonson-ca__bigdogbarking-02.wav', '../AudioData/Cats-Vs-Dogs/Dogs/326207__blu-150058__barking-dog.wav', '../AudioData/Cats-Vs-Dogs/Dogs/461557__slv1__dog-barking.wav', '../AudioData/Cats-Vs-Dogs/Dogs/446076__reklamacja__night-crickets-and-dogs.wav', '../AudioData/Cats-Vs-Dogs/Dogs/337101__ivolipa__group-of-dogs-barking.wav', '../AudioData/Cats-Vs-Dogs/Dogs/115536__puniho__two-barks.wav', '../AudioData/Cats-Vs-Dogs/Dogs/341081__breiti__dog-small-barking-angrily-medium-close-cuba.wav', '../AudioData/Cats-Vs-Dogs/Dogs/383483__daphne-in-wonderland__dog-barks-exterior-mono.wav', '../AudioData/Cats-Vs-Dogs/Dogs/328055__guntherdorksen__big-dogs-continues-barking-labrador-retriever-sfx.wav', '../AudioData/Cats-Vs-Dogs/Dogs/274471__nick121087__dog-barking.wav', '../AudioData/Cats-Vs-Dogs/Dogs/196561__felix-blume__several-dogs-barking-in-their-niche-in-the-small-estancia-of-rolito-in-tierra-de-fuego-argentina.wav', '../AudioData/Cats-Vs-Dogs/Dogs/384475__pfannkuchn__cologne-city-tarffic-on-a-street-with-barking-dog-surround.wav', '../AudioData/Cats-Vs-Dogs/Dogs/331040__inchadney__dog-barking-at-night.wav', '../AudioData/Cats-Vs-Dogs/Dogs/415023__roman-cgr__barking-dog-2.wav', '../AudioData/Cats-Vs-Dogs/Dogs/379531__deadllysin__dog-barking-reverb-2.wav', '../AudioData/Cats-Vs-Dogs/Dogs/410417__shredder10__near-and-far-dogs-barking-outside-town.wav', '../AudioData/Cats-Vs-Dogs/Dogs/136288__felix-blume__dogs-barking-and-birds-singing-in-the-red-wood-forest-close-to-san-francisco-road-in-the-far-background.wav', '../AudioData/Cats-Vs-Dogs/Dogs/365089__justiiiiin__dogs-barking.wav', '../AudioData/Cats-Vs-Dogs/Dogs/402964__mystikuum__atm-dogs-barking-mono-4824.wav', '../AudioData/Cats-Vs-Dogs/Dogs/235913__kferentchak__bark02.wav', '../AudioData/Cats-Vs-Dogs/Dogs/428860__buzzmsc__big-dog-barking.wav', '../AudioData/Cats-Vs-Dogs/Dogs/110918__felix-blume__several-dogs-barking-in-their-niche-in-the-small-estancia-of-rolito-in-tierra-de-fuego-argentina.wav', '../AudioData/Cats-Vs-Dogs/Dogs/401309__pogmothoin__dog-barking.wav', '../AudioData/Cats-Vs-Dogs/Dogs/365053__ryntjie__dog-barking-jack-russel.wav', '../AudioData/Cats-Vs-Dogs/Dogs/315699__inchadney__dog-barking.wav', '../AudioData/Cats-Vs-Dogs/Dogs/372570__glitchedtones__dog-shih-tzu-bark-series-02.wav', '../AudioData/Cats-Vs-Dogs/Dogs/180977__suprasummun__barking-dog.wav', '../AudioData/Cats-Vs-Dogs/Dogs/180257__bspiller5__dog-barking-cavalier-king-charles-spaniel.wav', '../AudioData/Cats-Vs-Dogs/Dogs/418155__14fpanskazummer-jakub__barking-m-dog.wav', '../AudioData/Cats-Vs-Dogs/Dogs/196127__yuval__barking-across-street.wav']\n",
      "../AudioData/Cats-Vs-Dogs/Dogs/347763__apolloaiello__dog-barking.wav\n",
      "../AudioData/Cats-Vs-Dogs/Dogs/347763__apolloaiello__dog-barking.wav\n",
      "../AudioData/Cats-Vs-Dogs/Dogs/163459__littlebigsounds__lbs-fx-dog-small-alert-bark001.wav\n",
      "../AudioData/Cats-Vs-Dogs/Dogs/163459__littlebigsounds__lbs-fx-dog-small-alert-bark001.wav\n",
      "../AudioData/Cats-Vs-Dogs/Dogs/231762__davidmenke__fx-dog-barking.wav\n",
      "../AudioData/Cats-Vs-Dogs/Dogs/231762__davidmenke__fx-dog-barking.wav\n",
      "../AudioData/Cats-Vs-Dogs/Dogs/24965__www-bonson-ca__bigdogbarking-02.wav\n",
      "../AudioData/Cats-Vs-Dogs/Dogs/115536__puniho__two-barks.wav\n",
      "../AudioData/Cats-Vs-Dogs/Dogs/235913__kferentchak__bark02.wav\n",
      "../AudioData/Cats-Vs-Dogs/Dogs/235913__kferentchak__bark02.wav\n",
      "Finished this class. Going to the next\n",
      "['../AudioData/Cats-Vs-Dogs/Cats/172888__tim-kahn__kitties.wav', '../AudioData/Cats-Vs-Dogs/Cats/444560__katzen__meowing-cleaningcat.mp3', '../AudioData/Cats-Vs-Dogs/Cats/185439__lotrdinonerd__feline-meowing.wav', '../AudioData/Cats-Vs-Dogs/Cats/473520__jpbillingsleyjr__kitty-cat-chat.wav', '../AudioData/Cats-Vs-Dogs/Cats/73345__noisecollector__mocha-meow.mp3', '../AudioData/Cats-Vs-Dogs/Cats/16466__acclivity__theladysaysno.wav', '../AudioData/Cats-Vs-Dogs/Cats/108843__orestes910__cat-play1.wav', '../AudioData/Cats-Vs-Dogs/Cats/333779__essgglobal2016__gata1.mp3', '../AudioData/Cats-Vs-Dogs/Cats/23721__bebops__catfight2.mp3', '../AudioData/Cats-Vs-Dogs/Cats/461545__slv1__cat-meowing.wav', '../AudioData/Cats-Vs-Dogs/Cats/362953__josepharaoh99__cat-call-meow.mp3', '../AudioData/Cats-Vs-Dogs/Cats/163286__dancip__meow-sample.wav', '../AudioData/Cats-Vs-Dogs/Cats/172639__telesik__cat.mp3', '../AudioData/Cats-Vs-Dogs/Cats/439665__teumova__shari-meow.wav', '../AudioData/Cats-Vs-Dogs/Cats/178013__ingolyrio__meow-for-food.wav', '../AudioData/Cats-Vs-Dogs/Cats/149426__conleec__misc-int-cat-meowing-002.wav', '../AudioData/Cats-Vs-Dogs/Cats/83834__kyster__kitten02amplified.wav', '../AudioData/Cats-Vs-Dogs/Cats/368010__trngle__meow-9.wav', '../AudioData/Cats-Vs-Dogs/Cats/362327__vlcikamen__xoraya-begging-for-fish.mp3', '../AudioData/Cats-Vs-Dogs/Cats/79114__kyster__cat-meow-02.wav', '../AudioData/Cats-Vs-Dogs/Cats/120160__oneirophile__cat-wants-food.wav', '../AudioData/Cats-Vs-Dogs/Cats/237738__otterbahn__toiletcat.wav', '../AudioData/Cats-Vs-Dogs/Cats/156643__yoyodaman234__catmeow1.wav', '../AudioData/Cats-Vs-Dogs/Cats/33548__reinsamba__miaowing-blackbird2.wav', '../AudioData/Cats-Vs-Dogs/Cats/64006__department64__kitten11.wav', '../AudioData/Cats-Vs-Dogs/Cats/274151__darcydunes__cat-meow-short.wav', '../AudioData/Cats-Vs-Dogs/Cats/138044__daboy291__cat-meow-once.wav', '../AudioData/Cats-Vs-Dogs/Cats/327583__rickaldo09__cat-meow.wav', '../AudioData/Cats-Vs-Dogs/Cats/425182__martinsbea__cat-meow.m4a', '../AudioData/Cats-Vs-Dogs/Cats/196253__lolamadeus__cat-meowing-and-purring-for-food.wav', '../AudioData/Cats-Vs-Dogs/Cats/415209__inspectorj__cat-screaming-a.wav', '../AudioData/Cats-Vs-Dogs/Cats/100111__noisecollector__catfight-unedited.mp3', '../AudioData/Cats-Vs-Dogs/Cats/85238__cognito-perceptu__cat-pleads.wav', '../AudioData/Cats-Vs-Dogs/Cats/98669__hamface__angry1.wav', '../AudioData/Cats-Vs-Dogs/Cats/348855__insintesi__cat-and-rain.wav', '../AudioData/Cats-Vs-Dogs/Cats/232343__sovy__meow.mp3', '../AudioData/Cats-Vs-Dogs/Cats/418153__14fpanskazummer-jakub__cats-meowing.wav', '../AudioData/Cats-Vs-Dogs/Cats/352226__the-funktasm__cat2.wav', '../AudioData/Cats-Vs-Dogs/Cats/264311__olliehahn12__cat-meowing.wav', '../AudioData/Cats-Vs-Dogs/Cats/440697__barkenov__kitten-miaowing.wav', '../AudioData/Cats-Vs-Dogs/Cats/4913__noisecollector__cat1.wav', '../AudioData/Cats-Vs-Dogs/Cats/256452__philsapphire__cat-meow.wav', '../AudioData/Cats-Vs-Dogs/Cats/67253__noise-cuisine__cat-in-heat.wav', '../AudioData/Cats-Vs-Dogs/Cats/207382__npeo__short-meow.wav', '../AudioData/Cats-Vs-Dogs/Cats/257731__egovind__lucifer-meow.wav', '../AudioData/Cats-Vs-Dogs/Cats/76879__noisecollector__hungrycat.wav', '../AudioData/Cats-Vs-Dogs/Cats/23578__ermine__061010-19-30catfight.mp3', '../AudioData/Cats-Vs-Dogs/Cats/117612__soundmary__cat-purr-meow.wav', '../AudioData/Cats-Vs-Dogs/Cats/4914__noisecollector__cat2.wav', '../AudioData/Cats-Vs-Dogs/Cats/165105__applauseav__excited-kitty.wav', '../AudioData/Cats-Vs-Dogs/Cats/203121__npeo__kitty-meow.mp3', '../AudioData/Cats-Vs-Dogs/Cats/67446__promete__cat-loud-meows.wav', '../AudioData/Cats-Vs-Dogs/Cats/262313__steffcaffrey__cat-meow2.wav', '../AudioData/Cats-Vs-Dogs/Cats/416197__lostphosphene__cat-meow.wav', '../AudioData/Cats-Vs-Dogs/Cats/427252__get-accel__20-kitty-cry.wav', '../AudioData/Cats-Vs-Dogs/Cats/49784__urmumsacow__angry-cat.wav', '../AudioData/Cats-Vs-Dogs/Cats/100030__nfrae__beef-mow1.wav', '../AudioData/Cats-Vs-Dogs/Cats/131201__yourfriendjesse__cat-meow.wav', '../AudioData/Cats-Vs-Dogs/Cats/56380__oliver-eye__cat.wav', '../AudioData/Cats-Vs-Dogs/Cats/24015__dwsolo__themba1.wav', '../AudioData/Cats-Vs-Dogs/Cats/64017__department64__kitten22.wav', '../AudioData/Cats-Vs-Dogs/Cats/192181__sarcasticbracket__kitten.wav', '../AudioData/Cats-Vs-Dogs/Cats/79689__labailey__catmeow.wav', '../AudioData/Cats-Vs-Dogs/Cats/381761__killumimati__mr-spock-meow.wav', '../AudioData/Cats-Vs-Dogs/Cats/368006__trngle__meow-4.wav', '../AudioData/Cats-Vs-Dogs/Cats/130034__maxdemianagl__meow-kitten.wav', '../AudioData/Cats-Vs-Dogs/Cats/16940__cognito-perceptu__cat-betty-mcdaniels-3.wav', '../AudioData/Cats-Vs-Dogs/Cats/370160__tony01726__cat-crying.wav', '../AudioData/Cats-Vs-Dogs/Cats/455285__sieuamthanh__cat-meo.wav', '../AudioData/Cats-Vs-Dogs/Cats/156416__reinsamba__2012-05-23-european-wildcat.wav', '../AudioData/Cats-Vs-Dogs/Cats/205650__myswat__funny-cat-always-grumpy-kitty.mp3', '../AudioData/Cats-Vs-Dogs/Cats/33657__tim-kahn__meow.wav', '../AudioData/Cats-Vs-Dogs/Cats/110011__tuberatanka__cat-meow.wav', '../AudioData/Cats-Vs-Dogs/Cats/461544__slv1__cat-sneeze.wav', '../AudioData/Cats-Vs-Dogs/Cats/94813__daveofdefeat2248__meowing-wav.wav', '../AudioData/Cats-Vs-Dogs/Cats/74732__tachyglossus__tym1.wav', '../AudioData/Cats-Vs-Dogs/Cats/171220__missozzy__miecio-the-cat.wav', '../AudioData/Cats-Vs-Dogs/Cats/171948__rebekahday__bigcateliontigermeow.wav', '../AudioData/Cats-Vs-Dogs/Cats/67444__promete__cat-angry-hissing-01.wav', '../AudioData/Cats-Vs-Dogs/Cats/407671__nagwense__soft-cat-meow.wav', '../AudioData/Cats-Vs-Dogs/Cats/130968__cubilon__cat-purring.wav', '../AudioData/Cats-Vs-Dogs/Cats/420090__14gpanskazakopcanik-jonas__05-01-cat-shouts-and-meowing.wav', '../AudioData/Cats-Vs-Dogs/Cats/461176__tovje-amma__01-cat-whine.wav', '../AudioData/Cats-Vs-Dogs/Cats/213889__counter-gamer__the-cat-s-meow.wav', '../AudioData/Cats-Vs-Dogs/Cats/366855__malieengel__cat-meowing.wav', '../AudioData/Cats-Vs-Dogs/Cats/82275__kyster__garage-cat-02.wav', '../AudioData/Cats-Vs-Dogs/Cats/60973__sazman__070422-cats.wav', '../AudioData/Cats-Vs-Dogs/Cats/368007__trngle__meow-3.wav', '../AudioData/Cats-Vs-Dogs/Cats/415071__tobiasludwig__purring-cat-meow.wav', '../AudioData/Cats-Vs-Dogs/Cats/120017__kklab5050__cat-meow.wav', '../AudioData/Cats-Vs-Dogs/Cats/18270__zippi1__sound-meow1.wav', '../AudioData/Cats-Vs-Dogs/Cats/330429__alexmurphy53__kitten-meow.mp3', '../AudioData/Cats-Vs-Dogs/Cats/50357__secondbody__angry-cat-roo.wav', '../AudioData/Cats-Vs-Dogs/Cats/346310__taure__cat-hiss-yowl.wav', '../AudioData/Cats-Vs-Dogs/Cats/85492__bennychico11__individualcatsoundeffects.wav', '../AudioData/Cats-Vs-Dogs/Cats/327438__softcoresoft__cat-angry-meow.wav', '../AudioData/Cats-Vs-Dogs/Cats/448019__lupsi__cat-being-picked-up.mp3', '../AudioData/Cats-Vs-Dogs/Cats/67445__promete__cat-lonely-meows.wav', '../AudioData/Cats-Vs-Dogs/Cats/407538__juane170058__kitten-meowing.wav', '../AudioData/Cats-Vs-Dogs/Cats/213135__taira-komori__cat6.mp3', '../AudioData/Cats-Vs-Dogs/Cats/69204__luftrum__catspurr.wav', '../AudioData/Cats-Vs-Dogs/Cats/368009__trngle__meow-1.wav', '../AudioData/Cats-Vs-Dogs/Cats/472376__joseagudelo__07-gato-maullando.wav', '../AudioData/Cats-Vs-Dogs/Cats/214759__peridactyloptrix__cat-meowing-x5.wav', '../AudioData/Cats-Vs-Dogs/Cats/325199__psychopancake__cats-meow.wav', '../AudioData/Cats-Vs-Dogs/Cats/34094__sazman__070422-cats-sample.wav', '../AudioData/Cats-Vs-Dogs/Cats/436541__mafon2__cat-meow.wav', '../AudioData/Cats-Vs-Dogs/Cats/196251__lolamadeus__kitten-meowing.wav', '../AudioData/Cats-Vs-Dogs/Cats/158415__kevingate__kittens-and-cats.wav', '../AudioData/Cats-Vs-Dogs/Cats/412017__skymary__cat-meow-short.wav', '../AudioData/Cats-Vs-Dogs/Cats/133869__elethorpia__cat-meowing.wav', '../AudioData/Cats-Vs-Dogs/Cats/138404__cameronmusic__cat-meow.wav', '../AudioData/Cats-Vs-Dogs/Cats/403933__matzka__liesel-06-10-2017.mp3', '../AudioData/Cats-Vs-Dogs/Cats/172299__jslarve__diddlebopp-the-cat-meowing.wav', '../AudioData/Cats-Vs-Dogs/Cats/240293__xtrgamr__catmeow-01.wav', '../AudioData/Cats-Vs-Dogs/Cats/448018__lupsi__female-cat-short-meoow.mp3', '../AudioData/Cats-Vs-Dogs/Cats/383427__deleted-user-7146007__cat-meow-meowing.wav', '../AudioData/Cats-Vs-Dogs/Cats/55150__noisecollector__chino2.wav', '../AudioData/Cats-Vs-Dogs/Cats/260881__trautwein__cat-purr.wav', '../AudioData/Cats-Vs-Dogs/Cats/45199__stomachache__catfight.wav', '../AudioData/Cats-Vs-Dogs/Cats/392244__elsarp__miaulement-2.wav', '../AudioData/Cats-Vs-Dogs/Cats/407188__spyboticer__cat-prr-and-meow.wav', '../AudioData/Cats-Vs-Dogs/Cats/260179__swatkamus__kitty-meow.wav', '../AudioData/Cats-Vs-Dogs/Cats/368013__trngle__meow-5.wav', '../AudioData/Cats-Vs-Dogs/Cats/148633__conleec__misc-int-cat-meowing-001.wav', '../AudioData/Cats-Vs-Dogs/Cats/61259__timtube__cat-meowing.wav', '../AudioData/Cats-Vs-Dogs/Cats/338272__andreas-mustola__mjau4.wav', '../AudioData/Cats-Vs-Dogs/Cats/222749__jenpisco__video-3.mp3']\n"
     ]
    },
    {
     "name": "stderr",
     "output_type": "stream",
     "text": [
      "/Users/dg/venvs/py37/lib/python3.7/site-packages/librosa/core/audio.py:161: UserWarning: PySoundFile failed. Trying audioread instead.\n",
      "  warnings.warn('PySoundFile failed. Trying audioread instead.')\n",
      "/Users/dg/venvs/py37/lib/python3.7/site-packages/librosa/core/audio.py:161: UserWarning: PySoundFile failed. Trying audioread instead.\n",
      "  warnings.warn('PySoundFile failed. Trying audioread instead.')\n"
     ]
    },
    {
     "name": "stdout",
     "output_type": "stream",
     "text": [
      "../AudioData/Cats-Vs-Dogs/Cats/16466__acclivity__theladysaysno.wav\n"
     ]
    },
    {
     "name": "stderr",
     "output_type": "stream",
     "text": [
      "/Users/dg/venvs/py37/lib/python3.7/site-packages/librosa/core/audio.py:161: UserWarning: PySoundFile failed. Trying audioread instead.\n",
      "  warnings.warn('PySoundFile failed. Trying audioread instead.')\n",
      "/Users/dg/venvs/py37/lib/python3.7/site-packages/librosa/core/audio.py:161: UserWarning: PySoundFile failed. Trying audioread instead.\n",
      "  warnings.warn('PySoundFile failed. Trying audioread instead.')\n"
     ]
    },
    {
     "name": "stdout",
     "output_type": "stream",
     "text": [
      "../AudioData/Cats-Vs-Dogs/Cats/461545__slv1__cat-meowing.wav\n",
      "../AudioData/Cats-Vs-Dogs/Cats/461545__slv1__cat-meowing.wav\n",
      "../AudioData/Cats-Vs-Dogs/Cats/362953__josepharaoh99__cat-call-meow.mp3\n",
      "../AudioData/Cats-Vs-Dogs/Cats/362953__josepharaoh99__cat-call-meow.mp3\n",
      "../AudioData/Cats-Vs-Dogs/Cats/163286__dancip__meow-sample.wav\n",
      "../AudioData/Cats-Vs-Dogs/Cats/163286__dancip__meow-sample.wav\n"
     ]
    },
    {
     "name": "stderr",
     "output_type": "stream",
     "text": [
      "/Users/dg/venvs/py37/lib/python3.7/site-packages/librosa/core/audio.py:161: UserWarning: PySoundFile failed. Trying audioread instead.\n",
      "  warnings.warn('PySoundFile failed. Trying audioread instead.')\n",
      "/Users/dg/venvs/py37/lib/python3.7/site-packages/librosa/core/audio.py:161: UserWarning: PySoundFile failed. Trying audioread instead.\n",
      "  warnings.warn('PySoundFile failed. Trying audioread instead.')\n"
     ]
    },
    {
     "name": "stdout",
     "output_type": "stream",
     "text": [
      "../AudioData/Cats-Vs-Dogs/Cats/83834__kyster__kitten02amplified.wav\n",
      "../AudioData/Cats-Vs-Dogs/Cats/83834__kyster__kitten02amplified.wav\n",
      "../AudioData/Cats-Vs-Dogs/Cats/368010__trngle__meow-9.wav\n",
      "../AudioData/Cats-Vs-Dogs/Cats/368010__trngle__meow-9.wav\n",
      "../AudioData/Cats-Vs-Dogs/Cats/362327__vlcikamen__xoraya-begging-for-fish.mp3\n",
      "../AudioData/Cats-Vs-Dogs/Cats/362327__vlcikamen__xoraya-begging-for-fish.mp3\n"
     ]
    },
    {
     "name": "stderr",
     "output_type": "stream",
     "text": [
      "/Users/dg/venvs/py37/lib/python3.7/site-packages/librosa/core/audio.py:161: UserWarning: PySoundFile failed. Trying audioread instead.\n",
      "  warnings.warn('PySoundFile failed. Trying audioread instead.')\n"
     ]
    },
    {
     "name": "stdout",
     "output_type": "stream",
     "text": [
      "../AudioData/Cats-Vs-Dogs/Cats/79114__kyster__cat-meow-02.wav\n",
      "../AudioData/Cats-Vs-Dogs/Cats/79114__kyster__cat-meow-02.wav\n",
      "../AudioData/Cats-Vs-Dogs/Cats/156643__yoyodaman234__catmeow1.wav\n",
      "../AudioData/Cats-Vs-Dogs/Cats/156643__yoyodaman234__catmeow1.wav\n",
      "../AudioData/Cats-Vs-Dogs/Cats/33548__reinsamba__miaowing-blackbird2.wav\n",
      "../AudioData/Cats-Vs-Dogs/Cats/33548__reinsamba__miaowing-blackbird2.wav\n",
      "../AudioData/Cats-Vs-Dogs/Cats/64006__department64__kitten11.wav\n",
      "../AudioData/Cats-Vs-Dogs/Cats/64006__department64__kitten11.wav\n",
      "../AudioData/Cats-Vs-Dogs/Cats/274151__darcydunes__cat-meow-short.wav\n",
      "../AudioData/Cats-Vs-Dogs/Cats/274151__darcydunes__cat-meow-short.wav\n",
      "../AudioData/Cats-Vs-Dogs/Cats/138044__daboy291__cat-meow-once.wav\n",
      "../AudioData/Cats-Vs-Dogs/Cats/138044__daboy291__cat-meow-once.wav\n"
     ]
    },
    {
     "name": "stderr",
     "output_type": "stream",
     "text": [
      "/Users/dg/venvs/py37/lib/python3.7/site-packages/librosa/core/audio.py:161: UserWarning: PySoundFile failed. Trying audioread instead.\n",
      "  warnings.warn('PySoundFile failed. Trying audioread instead.')\n"
     ]
    },
    {
     "name": "stdout",
     "output_type": "stream",
     "text": [
      "../AudioData/Cats-Vs-Dogs/Cats/415209__inspectorj__cat-screaming-a.wav\n",
      "../AudioData/Cats-Vs-Dogs/Cats/415209__inspectorj__cat-screaming-a.wav\n"
     ]
    },
    {
     "name": "stderr",
     "output_type": "stream",
     "text": [
      "/Users/dg/venvs/py37/lib/python3.7/site-packages/librosa/core/audio.py:161: UserWarning: PySoundFile failed. Trying audioread instead.\n",
      "  warnings.warn('PySoundFile failed. Trying audioread instead.')\n"
     ]
    },
    {
     "name": "stdout",
     "output_type": "stream",
     "text": [
      "../AudioData/Cats-Vs-Dogs/Cats/85238__cognito-perceptu__cat-pleads.wav\n",
      "../AudioData/Cats-Vs-Dogs/Cats/85238__cognito-perceptu__cat-pleads.wav\n"
     ]
    },
    {
     "name": "stderr",
     "output_type": "stream",
     "text": [
      "/Users/dg/venvs/py37/lib/python3.7/site-packages/librosa/core/audio.py:161: UserWarning: PySoundFile failed. Trying audioread instead.\n",
      "  warnings.warn('PySoundFile failed. Trying audioread instead.')\n"
     ]
    },
    {
     "name": "stdout",
     "output_type": "stream",
     "text": [
      "../AudioData/Cats-Vs-Dogs/Cats/352226__the-funktasm__cat2.wav\n",
      "../AudioData/Cats-Vs-Dogs/Cats/352226__the-funktasm__cat2.wav\n",
      "../AudioData/Cats-Vs-Dogs/Cats/4913__noisecollector__cat1.wav\n",
      "../AudioData/Cats-Vs-Dogs/Cats/4913__noisecollector__cat1.wav\n",
      "../AudioData/Cats-Vs-Dogs/Cats/256452__philsapphire__cat-meow.wav\n",
      "../AudioData/Cats-Vs-Dogs/Cats/207382__npeo__short-meow.wav\n",
      "../AudioData/Cats-Vs-Dogs/Cats/207382__npeo__short-meow.wav\n"
     ]
    },
    {
     "name": "stderr",
     "output_type": "stream",
     "text": [
      "/Users/dg/venvs/py37/lib/python3.7/site-packages/librosa/core/audio.py:161: UserWarning: PySoundFile failed. Trying audioread instead.\n",
      "  warnings.warn('PySoundFile failed. Trying audioread instead.')\n"
     ]
    },
    {
     "name": "stdout",
     "output_type": "stream",
     "text": [
      "../AudioData/Cats-Vs-Dogs/Cats/4914__noisecollector__cat2.wav\n",
      "../AudioData/Cats-Vs-Dogs/Cats/4914__noisecollector__cat2.wav\n"
     ]
    },
    {
     "name": "stderr",
     "output_type": "stream",
     "text": [
      "/Users/dg/venvs/py37/lib/python3.7/site-packages/librosa/core/audio.py:161: UserWarning: PySoundFile failed. Trying audioread instead.\n",
      "  warnings.warn('PySoundFile failed. Trying audioread instead.')\n"
     ]
    },
    {
     "name": "stdout",
     "output_type": "stream",
     "text": [
      "../AudioData/Cats-Vs-Dogs/Cats/203121__npeo__kitty-meow.mp3\n",
      "../AudioData/Cats-Vs-Dogs/Cats/203121__npeo__kitty-meow.mp3\n",
      "../AudioData/Cats-Vs-Dogs/Cats/262313__steffcaffrey__cat-meow2.wav\n",
      "../AudioData/Cats-Vs-Dogs/Cats/262313__steffcaffrey__cat-meow2.wav\n",
      "../AudioData/Cats-Vs-Dogs/Cats/427252__get-accel__20-kitty-cry.wav\n",
      "../AudioData/Cats-Vs-Dogs/Cats/100030__nfrae__beef-mow1.wav\n",
      "../AudioData/Cats-Vs-Dogs/Cats/100030__nfrae__beef-mow1.wav\n",
      "../AudioData/Cats-Vs-Dogs/Cats/131201__yourfriendjesse__cat-meow.wav\n",
      "../AudioData/Cats-Vs-Dogs/Cats/131201__yourfriendjesse__cat-meow.wav\n",
      "../AudioData/Cats-Vs-Dogs/Cats/24015__dwsolo__themba1.wav\n",
      "../AudioData/Cats-Vs-Dogs/Cats/24015__dwsolo__themba1.wav\n",
      "../AudioData/Cats-Vs-Dogs/Cats/64017__department64__kitten22.wav\n",
      "../AudioData/Cats-Vs-Dogs/Cats/64017__department64__kitten22.wav\n",
      "../AudioData/Cats-Vs-Dogs/Cats/192181__sarcasticbracket__kitten.wav\n",
      "../AudioData/Cats-Vs-Dogs/Cats/192181__sarcasticbracket__kitten.wav\n",
      "../AudioData/Cats-Vs-Dogs/Cats/79689__labailey__catmeow.wav\n",
      "../AudioData/Cats-Vs-Dogs/Cats/79689__labailey__catmeow.wav\n",
      "../AudioData/Cats-Vs-Dogs/Cats/381761__killumimati__mr-spock-meow.wav\n",
      "../AudioData/Cats-Vs-Dogs/Cats/368006__trngle__meow-4.wav\n",
      "../AudioData/Cats-Vs-Dogs/Cats/368006__trngle__meow-4.wav\n",
      "../AudioData/Cats-Vs-Dogs/Cats/16940__cognito-perceptu__cat-betty-mcdaniels-3.wav\n",
      "../AudioData/Cats-Vs-Dogs/Cats/16940__cognito-perceptu__cat-betty-mcdaniels-3.wav\n"
     ]
    },
    {
     "name": "stderr",
     "output_type": "stream",
     "text": [
      "/Users/dg/venvs/py37/lib/python3.7/site-packages/librosa/core/audio.py:161: UserWarning: PySoundFile failed. Trying audioread instead.\n",
      "  warnings.warn('PySoundFile failed. Trying audioread instead.')\n"
     ]
    },
    {
     "name": "stdout",
     "output_type": "stream",
     "text": [
      "../AudioData/Cats-Vs-Dogs/Cats/33657__tim-kahn__meow.wav\n",
      "../AudioData/Cats-Vs-Dogs/Cats/33657__tim-kahn__meow.wav\n",
      "../AudioData/Cats-Vs-Dogs/Cats/110011__tuberatanka__cat-meow.wav\n",
      "../AudioData/Cats-Vs-Dogs/Cats/110011__tuberatanka__cat-meow.wav\n",
      "../AudioData/Cats-Vs-Dogs/Cats/74732__tachyglossus__tym1.wav\n",
      "../AudioData/Cats-Vs-Dogs/Cats/461176__tovje-amma__01-cat-whine.wav\n",
      "../AudioData/Cats-Vs-Dogs/Cats/461176__tovje-amma__01-cat-whine.wav\n",
      "../AudioData/Cats-Vs-Dogs/Cats/368007__trngle__meow-3.wav\n",
      "../AudioData/Cats-Vs-Dogs/Cats/368007__trngle__meow-3.wav\n",
      "../AudioData/Cats-Vs-Dogs/Cats/120017__kklab5050__cat-meow.wav\n",
      "../AudioData/Cats-Vs-Dogs/Cats/18270__zippi1__sound-meow1.wav\n"
     ]
    },
    {
     "name": "stderr",
     "output_type": "stream",
     "text": [
      "/Users/dg/venvs/py37/lib/python3.7/site-packages/librosa/core/audio.py:161: UserWarning: PySoundFile failed. Trying audioread instead.\n",
      "  warnings.warn('PySoundFile failed. Trying audioread instead.')\n",
      "/Users/dg/venvs/py37/lib/python3.7/site-packages/librosa/core/audio.py:161: UserWarning: PySoundFile failed. Trying audioread instead.\n",
      "  warnings.warn('PySoundFile failed. Trying audioread instead.')\n"
     ]
    },
    {
     "name": "stdout",
     "output_type": "stream",
     "text": [
      "../AudioData/Cats-Vs-Dogs/Cats/448019__lupsi__cat-being-picked-up.mp3\n",
      "../AudioData/Cats-Vs-Dogs/Cats/67445__promete__cat-lonely-meows.wav\n",
      "../AudioData/Cats-Vs-Dogs/Cats/67445__promete__cat-lonely-meows.wav\n"
     ]
    },
    {
     "name": "stderr",
     "output_type": "stream",
     "text": [
      "/Users/dg/venvs/py37/lib/python3.7/site-packages/librosa/core/audio.py:161: UserWarning: PySoundFile failed. Trying audioread instead.\n",
      "  warnings.warn('PySoundFile failed. Trying audioread instead.')\n"
     ]
    },
    {
     "name": "stdout",
     "output_type": "stream",
     "text": [
      "../AudioData/Cats-Vs-Dogs/Cats/213135__taira-komori__cat6.mp3\n",
      "../AudioData/Cats-Vs-Dogs/Cats/213135__taira-komori__cat6.mp3\n",
      "../AudioData/Cats-Vs-Dogs/Cats/368009__trngle__meow-1.wav\n",
      "../AudioData/Cats-Vs-Dogs/Cats/368009__trngle__meow-1.wav\n",
      "../AudioData/Cats-Vs-Dogs/Cats/472376__joseagudelo__07-gato-maullando.wav\n",
      "../AudioData/Cats-Vs-Dogs/Cats/472376__joseagudelo__07-gato-maullando.wav\n",
      "../AudioData/Cats-Vs-Dogs/Cats/436541__mafon2__cat-meow.wav\n",
      "../AudioData/Cats-Vs-Dogs/Cats/436541__mafon2__cat-meow.wav\n",
      "../AudioData/Cats-Vs-Dogs/Cats/412017__skymary__cat-meow-short.wav\n",
      "../AudioData/Cats-Vs-Dogs/Cats/133869__elethorpia__cat-meowing.wav\n",
      "../AudioData/Cats-Vs-Dogs/Cats/138404__cameronmusic__cat-meow.wav\n",
      "../AudioData/Cats-Vs-Dogs/Cats/138404__cameronmusic__cat-meow.wav\n"
     ]
    },
    {
     "name": "stderr",
     "output_type": "stream",
     "text": [
      "/Users/dg/venvs/py37/lib/python3.7/site-packages/librosa/core/audio.py:161: UserWarning: PySoundFile failed. Trying audioread instead.\n",
      "  warnings.warn('PySoundFile failed. Trying audioread instead.')\n"
     ]
    },
    {
     "name": "stdout",
     "output_type": "stream",
     "text": [
      "../AudioData/Cats-Vs-Dogs/Cats/240293__xtrgamr__catmeow-01.wav\n",
      "../AudioData/Cats-Vs-Dogs/Cats/448018__lupsi__female-cat-short-meoow.mp3\n"
     ]
    },
    {
     "name": "stderr",
     "output_type": "stream",
     "text": [
      "/Users/dg/venvs/py37/lib/python3.7/site-packages/librosa/core/audio.py:161: UserWarning: PySoundFile failed. Trying audioread instead.\n",
      "  warnings.warn('PySoundFile failed. Trying audioread instead.')\n"
     ]
    },
    {
     "name": "stdout",
     "output_type": "stream",
     "text": [
      "../AudioData/Cats-Vs-Dogs/Cats/55150__noisecollector__chino2.wav\n",
      "../AudioData/Cats-Vs-Dogs/Cats/407188__spyboticer__cat-prr-and-meow.wav\n",
      "../AudioData/Cats-Vs-Dogs/Cats/407188__spyboticer__cat-prr-and-meow.wav\n",
      "../AudioData/Cats-Vs-Dogs/Cats/260179__swatkamus__kitty-meow.wav\n",
      "../AudioData/Cats-Vs-Dogs/Cats/260179__swatkamus__kitty-meow.wav\n",
      "../AudioData/Cats-Vs-Dogs/Cats/368013__trngle__meow-5.wav\n",
      "../AudioData/Cats-Vs-Dogs/Cats/368013__trngle__meow-5.wav\n",
      "../AudioData/Cats-Vs-Dogs/Cats/61259__timtube__cat-meowing.wav\n",
      "../AudioData/Cats-Vs-Dogs/Cats/338272__andreas-mustola__mjau4.wav\n",
      "../AudioData/Cats-Vs-Dogs/Cats/338272__andreas-mustola__mjau4.wav\n",
      "../AudioData/Cats-Vs-Dogs/Cats/222749__jenpisco__video-3.mp3\n",
      "../AudioData/Cats-Vs-Dogs/Cats/222749__jenpisco__video-3.mp3\n",
      "Finished this class. Going to the next\n",
      "Done generating spectra!\n",
      "Notebook Done\n"
     ]
    },
    {
     "name": "stderr",
     "output_type": "stream",
     "text": [
      "/Users/dg/venvs/py37/lib/python3.7/site-packages/librosa/core/audio.py:161: UserWarning: PySoundFile failed. Trying audioread instead.\n",
      "  warnings.warn('PySoundFile failed. Trying audioread instead.')\n"
     ]
    }
   ],
   "source": [
    "ComputeSpectrograms(SOURCE_FOLDER_TRAIN,OUTPUT_FOLDER_TRAIN)\n",
    "pickle.dump(SpectrumVariables, open(os.path.join(OUTPUT_FOLDER_TRAIN,'Main.SpecVar'), \"wb\" ))\n",
    "print(\"Notebook Done\")"
   ]
  },
  {
   "cell_type": "code",
   "execution_count": 13,
   "metadata": {},
   "outputs": [],
   "source": [
    "pickle.dump(SpectrumVariables, open(os.path.join(OUTPUT_FOLDER_TRAIN,'Main.SpecVar'), \"wb\" ))"
   ]
  },
  {
   "cell_type": "code",
   "execution_count": null,
   "metadata": {},
   "outputs": [],
   "source": [
    "print('test')"
   ]
  },
  {
   "cell_type": "code",
   "execution_count": null,
   "metadata": {},
   "outputs": [],
   "source": []
  }
 ],
 "metadata": {
  "kernelspec": {
   "display_name": "py37",
   "language": "python",
   "name": "py37"
  },
  "language_info": {
   "codemirror_mode": {
    "name": "ipython",
    "version": 3
   },
   "file_extension": ".py",
   "mimetype": "text/x-python",
   "name": "python",
   "nbconvert_exporter": "python",
   "pygments_lexer": "ipython3",
   "version": "3.7.7"
  }
 },
 "nbformat": 4,
 "nbformat_minor": 2
}
