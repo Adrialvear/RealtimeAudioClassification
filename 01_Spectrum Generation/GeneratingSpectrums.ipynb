{
 "cells": [
  {
   "cell_type": "code",
   "execution_count": 35,
   "metadata": {},
   "outputs": [],
   "source": [
    "import csv\n",
    "import cv2\n",
    "import numpy as np\n",
    "import librosa\n",
    "import librosa.display\n",
    "import wave\n",
    "import os\n",
    "import matplotlib.pyplot as plt\n",
    "import multiprocessing \n",
    "import pickle"
   ]
  },
  {
   "cell_type": "code",
   "execution_count": 36,
   "metadata": {},
   "outputs": [],
   "source": [
    "SOURCE_FOLDER_TRAIN= '../AudioData/Cats-Vs-Dogs/'\n",
    "OUTPUT_FOLDER_TRAIN = '../GeneratedData/Cats-Vs-Dogs/'"
   ]
  },
  {
   "cell_type": "code",
   "execution_count": 37,
   "metadata": {},
   "outputs": [
    {
     "name": "stdout",
     "output_type": "stream",
     "text": [
      "Type Filename befor the '.' => Standard\n"
     ]
    },
    {
     "data": {
      "text/plain": [
       "{'RESOLUTION': 224,\n",
       " 'SAMPLE_RATE': 48000,\n",
       " 'N_FFT': 1536,\n",
       " 'HOP_LENGTH': 512,\n",
       " 'FMIN': 10,\n",
       " 'FMAX': 21000,\n",
       " 'N_MELS': 224,\n",
       " 'POWER': 2.0}"
      ]
     },
     "execution_count": 37,
     "metadata": {},
     "output_type": "execute_result"
    }
   ],
   "source": [
    "FileName =input(\"Type Filename befor the '.' => \")\n",
    "SpectrumVariables = pickle.load(open( FileName+'.SpecVar', \"rb\" ) )\n",
    "pickle.dump(SpectrumVariables, open(os.path.join(OUTPUT_FOLDER_TRAIN,'Main.SpecVar'), \"wb\" ))\n",
    "SpectrumVariables"
   ]
  },
  {
   "cell_type": "code",
   "execution_count": 38,
   "metadata": {},
   "outputs": [],
   "source": [
    "def log_mel_spec_tfm(src_path, dst_path):\n",
    "    #print(src_path)\n",
    "    fname=src_path.split('/')[-1];\n",
    "    x=[]\n",
    "    sample_rate=0\n",
    "    try:\n",
    "        channels ,sample_rate_in = librosa.load(src_path,mono=False)\n",
    "    except:\n",
    "        print(fname+\" Could not be computed!\")\n",
    "        return\n",
    "    if(channels.ndim==1):\n",
    "        channels= channels.reshape((1,(len(channels))))\n",
    "    channelcounter=0\n",
    "    for x in channels:\n",
    "        channelcounter+=1\n",
    "        \n",
    "        RESOLUTION=SpectrumVariables[\"RESOLUTION\"] \n",
    "        SAMPLE_RATE=SpectrumVariables[\"SAMPLE_RATE\"]\n",
    "        N_FFT=SpectrumVariables[\"N_FFT\"]\n",
    "        HOP_LENGTH= SpectrumVariables[\"HOP_LENGTH\"]\n",
    "        FMIN=SpectrumVariables[\"FMIN\"]\n",
    "        FMAX=SpectrumVariables[\"FMAX\"]\n",
    "        N_MELS=SpectrumVariables[\"N_MELS\"]\n",
    "        POWER=SpectrumVariables[\"POWER\"]\n",
    "        audio_data = librosa.resample(x, sample_rate_in, SAMPLE_RATE)\n",
    "        mel_spec_power = librosa.feature.melspectrogram(audio_data, sr=SAMPLE_RATE, n_fft=N_FFT, \n",
    "                                                        hop_length=HOP_LENGTH, \n",
    "                                                        n_mels=N_MELS, power=POWER,\n",
    "                                                       fmin=FMIN,fmax=FMAX)\n",
    "        mel_spec_db = librosa.power_to_db(mel_spec_power, ref=np.max)\n",
    "        image = mel_spec_db; # convert to float\n",
    "        image -= image.min() # ensure the minimal value is 0.0\n",
    "        image /= image.max() # maximum value in image is now 1.0\n",
    "        image*=256;\n",
    "        img = image.astype(np.uint8)\n",
    "        colorPic = cv2.applyColorMap(img, cv2.COLORMAP_BONE)\n",
    "        #cv2.imshow('dst_rt', colorPic)\n",
    "        #cv2.waitKey(0)\n",
    "        count=0\n",
    "        for i in range(int(np.floor(colorPic.shape[1]/RESOLUTION))):\n",
    "            count+=1\n",
    "            startx=RESOLUTION*i\n",
    "            stopx=RESOLUTION*(i+1)\n",
    "            OutputImage = cv2.resize(colorPic[:,startx:stopx,:],(RESOLUTION,RESOLUTION))\n",
    "            plt.imsave(os.path.join(dst_path,(fname.replace(\".wav\",'-').replace(\".m4a\",'-').replace(\".mp3\",'-') +str(i)+'-ch-'+str(channelcounter)+ '.png')), OutputImage) \n",
    "        if(count==0):\n",
    "            print(src_path)\n",
    "            #print(\"WARNING: => Jumped A file. If you see this often, increas sampleRate or Hop length.\")"
   ]
  },
  {
   "cell_type": "code",
   "execution_count": 39,
   "metadata": {},
   "outputs": [],
   "source": [
    "def ComputeSpectrograms(IN_FOLDER,OUT_FOLDER):\n",
    "    print(\"I will print the file path to files that are too short to fit into one full picture.\")\n",
    "    SourceFoldersLabels = [f.path for f in os.scandir(IN_FOLDER) if f.is_dir()]\n",
    "    for path in SourceFoldersLabels:\n",
    "        FileList = [f.path for f in os.scandir(path) if f.is_file() and (f.name.endswith(\".wav\") or f.name.endswith(\".m4a\") or f.name.endswith(\".mp3\"))]\n",
    "        Label = path.split('/')[-1]\n",
    "        outFolder = os.path.join(OUT_FOLDER,Label)\n",
    "        if not os.path.exists(outFolder):\n",
    "            os.makedirs(outFolder)\n",
    "        with multiprocessing.Pool(12) as p:\n",
    "            p.starmap(log_mel_spec_tfm, [(f,outFolder) for f in FileList])\n",
    "        print(\"Finished this pool. Now next Folder!\")\n",
    "    print(\"Done generating spectra!\")  "
   ]
  },
  {
   "cell_type": "code",
   "execution_count": 41,
   "metadata": {},
   "outputs": [
    {
     "name": "stdout",
     "output_type": "stream",
     "text": [
      "../AudioData/Cats-Vs-Dogs/Dogs/231762__davidmenke__fx-dog-barking.wav\n",
      "../AudioData/Cats-Vs-Dogs/Dogs/231762__davidmenke__fx-dog-barking.wav\n",
      "../AudioData/Cats-Vs-Dogs/Dogs/163459__littlebigsounds__lbs-fx-dog-small-alert-bark001.wav\n",
      "../AudioData/Cats-Vs-Dogs/Dogs/163459__littlebigsounds__lbs-fx-dog-small-alert-bark001.wav\n",
      "Finished this pool. Now next Folder!\n",
      "../AudioData/Cats-Vs-Dogs/Cats/64006__department64__kitten11.wav\n",
      "../AudioData/Cats-Vs-Dogs/Cats/461545__slv1__cat-meowing.wav\n",
      "../AudioData/Cats-Vs-Dogs/Cats/64006__department64__kitten11.wav\n",
      "../AudioData/Cats-Vs-Dogs/Cats/461545__slv1__cat-meowing.wav\n",
      "../AudioData/Cats-Vs-Dogs/Cats/362327__vlcikamen__xoraya-begging-for-fish.mp3\n",
      "../AudioData/Cats-Vs-Dogs/Cats/362327__vlcikamen__xoraya-begging-for-fish.mp3\n",
      "../AudioData/Cats-Vs-Dogs/Cats/415209__inspectorj__cat-screaming-a.wav\n",
      "../AudioData/Cats-Vs-Dogs/Cats/362953__josepharaoh99__cat-call-meow.mp3\n",
      "../AudioData/Cats-Vs-Dogs/Cats/274151__darcydunes__cat-meow-short.wav\n",
      "../AudioData/Cats-Vs-Dogs/Cats/362953__josepharaoh99__cat-call-meow.mp3\n",
      "../AudioData/Cats-Vs-Dogs/Cats/415209__inspectorj__cat-screaming-a.wav\n",
      "../AudioData/Cats-Vs-Dogs/Cats/274151__darcydunes__cat-meow-short.wav\n",
      "../AudioData/Cats-Vs-Dogs/Cats/163286__dancip__meow-sample.wav\n",
      "../AudioData/Cats-Vs-Dogs/Cats/163286__dancip__meow-sample.wav\n",
      "../AudioData/Cats-Vs-Dogs/Cats/79114__kyster__cat-meow-02.wav\n",
      "../AudioData/Cats-Vs-Dogs/Cats/138044__daboy291__cat-meow-once.wav\n",
      "../AudioData/Cats-Vs-Dogs/Cats/138044__daboy291__cat-meow-once.wav\n",
      "../AudioData/Cats-Vs-Dogs/Cats/79114__kyster__cat-meow-02.wav\n",
      "../AudioData/Cats-Vs-Dogs/Cats/4913__noisecollector__cat1.wav\n",
      "../AudioData/Cats-Vs-Dogs/Cats/4913__noisecollector__cat1.wav\n",
      "../AudioData/Cats-Vs-Dogs/Cats/256452__philsapphire__cat-meow.wav\n",
      "../AudioData/Cats-Vs-Dogs/Cats/352226__the-funktasm__cat2.wav\n",
      "../AudioData/Cats-Vs-Dogs/Cats/352226__the-funktasm__cat2.wav\n",
      "../AudioData/Cats-Vs-Dogs/Cats/4914__noisecollector__cat2.wav\n",
      "../AudioData/Cats-Vs-Dogs/Cats/4914__noisecollector__cat2.wav\n",
      "../AudioData/Cats-Vs-Dogs/Cats/83834__kyster__kitten02amplified.wav\n",
      "../AudioData/Cats-Vs-Dogs/Cats/83834__kyster__kitten02amplified.wav\n",
      "../AudioData/Cats-Vs-Dogs/Cats/368010__trngle__meow-9.wav\n",
      "../AudioData/Cats-Vs-Dogs/Cats/368010__trngle__meow-9.wav\n",
      "../AudioData/Cats-Vs-Dogs/Cats/427252__get-accel__20-kitty-cry.wav\n",
      "../AudioData/Cats-Vs-Dogs/Cats/262313__steffcaffrey__cat-meow2.wav\n",
      "../AudioData/Cats-Vs-Dogs/Cats/262313__steffcaffrey__cat-meow2.wav\n",
      "../AudioData/Cats-Vs-Dogs/Cats/100030__nfrae__beef-mow1.wav\n",
      "../AudioData/Cats-Vs-Dogs/Cats/100030__nfrae__beef-mow1.wav\n",
      "../AudioData/Cats-Vs-Dogs/Cats/64017__department64__kitten22.wav\n",
      "../AudioData/Cats-Vs-Dogs/Cats/64017__department64__kitten22.wav\n",
      "../AudioData/Cats-Vs-Dogs/Cats/85238__cognito-perceptu__cat-pleads.wav\n",
      "../AudioData/Cats-Vs-Dogs/Cats/85238__cognito-perceptu__cat-pleads.wav\n",
      "../AudioData/Cats-Vs-Dogs/Cats/381761__killumimati__mr-spock-meow.wav\n",
      "../AudioData/Cats-Vs-Dogs/Cats/368006__trngle__meow-4.wav\n",
      "../AudioData/Cats-Vs-Dogs/Cats/368006__trngle__meow-4.wav\n",
      "../AudioData/Cats-Vs-Dogs/Cats/16940__cognito-perceptu__cat-betty-mcdaniels-3.wav\n",
      "../AudioData/Cats-Vs-Dogs/Cats/16940__cognito-perceptu__cat-betty-mcdaniels-3.wav\n",
      "../AudioData/Cats-Vs-Dogs/Cats/110011__tuberatanka__cat-meow.wav\n",
      "../AudioData/Cats-Vs-Dogs/Cats/110011__tuberatanka__cat-meow.wav\n",
      "../AudioData/Cats-Vs-Dogs/Cats/24015__dwsolo__themba1.wav\n",
      "../AudioData/Cats-Vs-Dogs/Cats/24015__dwsolo__themba1.wav\n",
      "../AudioData/Cats-Vs-Dogs/Cats/461176__tovje-amma__01-cat-whine.wav\n",
      "../AudioData/Cats-Vs-Dogs/Cats/461176__tovje-amma__01-cat-whine.wav\n",
      "../AudioData/Cats-Vs-Dogs/Cats/156643__yoyodaman234__catmeow1.wav\n",
      "../AudioData/Cats-Vs-Dogs/Cats/156643__yoyodaman234__catmeow1.wav\n",
      "../AudioData/Cats-Vs-Dogs/Cats/33548__reinsamba__miaowing-blackbird2.wav\n",
      "../AudioData/Cats-Vs-Dogs/Cats/33548__reinsamba__miaowing-blackbird2.wav\n",
      "../AudioData/Cats-Vs-Dogs/Cats/368007__trngle__meow-3.wav\n",
      "../AudioData/Cats-Vs-Dogs/Cats/368007__trngle__meow-3.wav\n",
      "../AudioData/Cats-Vs-Dogs/Cats/18270__zippi1__sound-meow1.wav\n",
      "../AudioData/Cats-Vs-Dogs/Cats/448019__lupsi__cat-being-picked-up.mp3\n",
      "../AudioData/Cats-Vs-Dogs/Cats/472376__joseagudelo__07-gato-maullando.wav\n",
      "../AudioData/Cats-Vs-Dogs/Cats/213135__taira-komori__cat6.mp3\n",
      "../AudioData/Cats-Vs-Dogs/Cats/472376__joseagudelo__07-gato-maullando.wav\n",
      "../AudioData/Cats-Vs-Dogs/Cats/213135__taira-komori__cat6.mp3\n",
      "../AudioData/Cats-Vs-Dogs/Cats/207382__npeo__short-meow.wav\n",
      "../AudioData/Cats-Vs-Dogs/Cats/207382__npeo__short-meow.wav\n",
      "../AudioData/Cats-Vs-Dogs/Cats/138404__cameronmusic__cat-meow.wav\n",
      "../AudioData/Cats-Vs-Dogs/Cats/240293__xtrgamr__catmeow-01.wav\n",
      "../AudioData/Cats-Vs-Dogs/Cats/138404__cameronmusic__cat-meow.wav\n",
      "../AudioData/Cats-Vs-Dogs/Cats/448018__lupsi__female-cat-short-meoow.mp3\n",
      "../AudioData/Cats-Vs-Dogs/Cats/412017__skymary__cat-meow-short.wav\n",
      "../AudioData/Cats-Vs-Dogs/Cats/133869__elethorpia__cat-meowing.wav\n",
      "../AudioData/Cats-Vs-Dogs/Cats/55150__noisecollector__chino2.wav\n",
      "../AudioData/Cats-Vs-Dogs/Cats/368013__trngle__meow-5.wav\n",
      "../AudioData/Cats-Vs-Dogs/Cats/120017__kklab5050__cat-meow.wav\n",
      "../AudioData/Cats-Vs-Dogs/Cats/368013__trngle__meow-5.wav\n",
      "../AudioData/Cats-Vs-Dogs/Cats/338272__andreas-mustola__mjau4.wav\n",
      "../AudioData/Cats-Vs-Dogs/Cats/338272__andreas-mustola__mjau4.wav\n",
      "../AudioData/Cats-Vs-Dogs/Cats/260179__swatkamus__kitty-meow.wav\n",
      "../AudioData/Cats-Vs-Dogs/Cats/260179__swatkamus__kitty-meow.wav\n",
      "../AudioData/Cats-Vs-Dogs/Cats/436541__mafon2__cat-meow.wav\n",
      "../AudioData/Cats-Vs-Dogs/Cats/436541__mafon2__cat-meow.wav\n",
      "../AudioData/Cats-Vs-Dogs/Cats/368009__trngle__meow-1.wav\n",
      "../AudioData/Cats-Vs-Dogs/Cats/368009__trngle__meow-1.wav\n",
      "Finished this pool. Now next Folder!\n",
      "Done generating spectra!\n"
     ]
    }
   ],
   "source": [
    "ComputeSpectrograms(SOURCE_FOLDER_TRAIN,OUTPUT_FOLDER_TRAIN)"
   ]
  },
  {
   "cell_type": "code",
   "execution_count": 42,
   "metadata": {},
   "outputs": [
    {
     "name": "stdout",
     "output_type": "stream",
     "text": [
      "Done\n"
     ]
    }
   ],
   "source": [
    "print(\"Done\")"
   ]
  },
  {
   "cell_type": "code",
   "execution_count": null,
   "metadata": {},
   "outputs": [],
   "source": []
  }
 ],
 "metadata": {
  "kernelspec": {
   "display_name": "Python3.6 workshop",
   "language": "python",
   "name": "workshop"
  },
  "language_info": {
   "codemirror_mode": {
    "name": "ipython",
    "version": 3
   },
   "file_extension": ".py",
   "mimetype": "text/x-python",
   "name": "python",
   "nbconvert_exporter": "python",
   "pygments_lexer": "ipython3",
   "version": "3.6.8"
  }
 },
 "nbformat": 4,
 "nbformat_minor": 2
}
