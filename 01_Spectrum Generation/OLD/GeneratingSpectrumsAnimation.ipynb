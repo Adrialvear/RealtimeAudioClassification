{
 "cells": [
  {
   "cell_type": "code",
   "execution_count": 118,
   "metadata": {},
   "outputs": [],
   "source": [
    "from __future__ import print_function\n",
    "import cv2\n",
    "import csv\n",
    "import numpy as np\n",
    "import librosa\n",
    "import librosa.display\n",
    "import wave\n",
    "import os\n",
    "import matplotlib.pyplot as plt\n",
    "\n",
    "\n",
    "from ipywidgets import interactive\n",
    "import ipywidgets as widgets\n",
    "\n",
    "%matplotlib inline\n",
    "from ipywidgets import interactive\n",
    "import matplotlib.pyplot as plt\n",
    "import numpy as np\n",
    "\n",
    "from PIL import Image\n",
    "import IPython.display as displayImg"
   ]
  },
  {
   "cell_type": "code",
   "execution_count": 124,
   "metadata": {
    "scrolled": false
   },
   "outputs": [
    {
     "data": {
      "application/vnd.jupyter.widget-view+json": {
       "model_id": "c6b571abf91343438ff1a63d8f4b24a9",
       "version_major": 2,
       "version_minor": 0
      },
      "text/plain": [
       "interactive(children=(IntSlider(value=32000, description='SAMPLE_RATE', max=48000, min=16000, step=100), IntSl…"
      ]
     },
     "metadata": {},
     "output_type": "display_data"
    }
   ],
   "source": [
    "\n",
    "### Image output resolution\n",
    "RESOLUTION = 224\n",
    "MainFile=\"../../AudioData/audio-cats-and-dogs/cats_dogs/train/dog/dog_barking_20.wav\"\n",
    "\n",
    "def f(SAMPLE_RATE, N_FFT,HOP_LENGTH,FMIN, FMAX,N_MELS):\n",
    "    \n",
    "  \n",
    "   \n",
    "    x ,sample_rate_in = librosa.load(MainFile,mono=True)\n",
    "    audio_data = librosa.resample(x, sample_rate_in, SAMPLE_RATE)\n",
    "    mel_spec_power = librosa.feature.melspectrogram(x, sr=SAMPLE_RATE, n_fft=N_FFT, \n",
    "                                                    hop_length=HOP_LENGTH, \n",
    "                                                    n_mels=N_MELS, power=3.0,\n",
    "                                                   fmin=FMIN,fmax=FMAX)\n",
    "    mel_spec_db = np.float32(librosa.power_to_db(mel_spec_power, ref=np.max))\n",
    "    image = mel_spec_db; # convert to float\n",
    "    image -= image.min() # ensure the minimal value is 0.0\n",
    "    \n",
    "    image /= image.max() # maximum value in image is now 1.0\n",
    "\n",
    "    #img = np.stack((image,) * 3,-1)\n",
    "    image*=256;\n",
    "    img = image.astype(np.uint8)\n",
    "    print(img.min(),img.max())\n",
    "    colerPic = cv2.applyColorMap(img, cv2.COLORMAP_PINK)\n",
    "    colerPic\n",
    "    print(grayed.shape,grayed.min(),grayed.max())\n",
    "    plt.imshow(colerPic)\n",
    "   \n",
    "    \n",
    "\n",
    "    \n",
    "\n",
    "interactive_plot = interactive(f, {\"manual\":True},SAMPLE_RATE=(16000, 48000,100), N_FFT=(128, 2048*2, 64),HOP_LENGTH=(128, 512, 16),FMIN=(0,300,5),FMAX=(300,40000,10),N_MELS=(10,300,10))\n",
    "#output = interactive_plot.children[-1]\n",
    "#output.layout.height = '350px'\n",
    "#output.layout.width = '350px'\n",
    "interactive_plot"
   ]
  },
  {
   "cell_type": "code",
   "execution_count": 129,
   "metadata": {},
   "outputs": [
    {
     "data": {
      "text/plain": [
       "<matplotlib.image.AxesImage at 0x7fd718a27dd8>"
      ]
     },
     "execution_count": 129,
     "metadata": {},
     "output_type": "execute_result"
    },
    {
     "data": {
      "image/png": "[encoded data removed]",
      "text/plain": [
       "<Figure size 432x288 with 1 Axes>"
      ]
     },
     "metadata": {
      "needs_background": "light"
     },
     "output_type": "display_data"
    }
   ],
   "source": [
    "import numpy as np\n",
    "from PIL import Image\n",
    "\n",
    "# gradient between 0 and 1 for 256*256\n",
    "array = np.linspace(0,255,256*256)\n",
    "\n",
    "# reshape to 2d\n",
    "mat = np.reshape(array,(256,256)).astype(np.uint8)\n",
    "# Creates PIL image\n",
    "colerPic = cv2.applyColorMap(mat, cv2.COLORMAP_PINK)\n",
    "plt.imshow(colerPic)\n",
    "   "
   ]
  },
  {
   "cell_type": "code",
   "execution_count": 131,
   "metadata": {},
   "outputs": [
    {
     "data": {
      "text/plain": [
       "(256, 256, 3)"
      ]
     },
     "execution_count": 131,
     "metadata": {},
     "output_type": "execute_result"
    }
   ],
   "source": [
    "colerPic.shape"
   ]
  },
  {
   "cell_type": "code",
   "execution_count": null,
   "metadata": {},
   "outputs": [],
   "source": []
  }
 ],
 "metadata": {
  "kernelspec": {
   "display_name": "Python3.6 workshop",
   "language": "python",
   "name": "workshop"
  },
  "language_info": {
   "codemirror_mode": {
    "name": "ipython",
    "version": 3
   },
   "file_extension": ".py",
   "mimetype": "text/x-python",
   "name": "python",
   "nbconvert_exporter": "python",
   "pygments_lexer": "ipython3",
   "version": "3.6.8"
  }
 },
 "nbformat": 4,
 "nbformat_minor": 2
}
